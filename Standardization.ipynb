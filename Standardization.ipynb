{
 "cells": [
  {
   "cell_type": "code",
   "execution_count": 1,
   "id": "5c082720",
   "metadata": {},
   "outputs": [
    {
     "data": {
      "text/html": [
       "<div>\n",
       "<style scoped>\n",
       "    .dataframe tbody tr th:only-of-type {\n",
       "        vertical-align: middle;\n",
       "    }\n",
       "\n",
       "    .dataframe tbody tr th {\n",
       "        vertical-align: top;\n",
       "    }\n",
       "\n",
       "    .dataframe thead th {\n",
       "        text-align: right;\n",
       "    }\n",
       "</style>\n",
       "<table border=\"1\" class=\"dataframe\">\n",
       "  <thead>\n",
       "    <tr style=\"text-align: right;\">\n",
       "      <th></th>\n",
       "      <th>Maths</th>\n",
       "      <th>Physics</th>\n",
       "    </tr>\n",
       "  </thead>\n",
       "  <tbody>\n",
       "    <tr>\n",
       "      <th>0</th>\n",
       "      <td>92</td>\n",
       "      <td>98</td>\n",
       "    </tr>\n",
       "    <tr>\n",
       "      <th>1</th>\n",
       "      <td>56</td>\n",
       "      <td>68</td>\n",
       "    </tr>\n",
       "    <tr>\n",
       "      <th>2</th>\n",
       "      <td>88</td>\n",
       "      <td>81</td>\n",
       "    </tr>\n",
       "    <tr>\n",
       "      <th>3</th>\n",
       "      <td>70</td>\n",
       "      <td>80</td>\n",
       "    </tr>\n",
       "    <tr>\n",
       "      <th>4</th>\n",
       "      <td>80</td>\n",
       "      <td>83</td>\n",
       "    </tr>\n",
       "    <tr>\n",
       "      <th>5</th>\n",
       "      <td>49</td>\n",
       "      <td>52</td>\n",
       "    </tr>\n",
       "    <tr>\n",
       "      <th>6</th>\n",
       "      <td>65</td>\n",
       "      <td>66</td>\n",
       "    </tr>\n",
       "    <tr>\n",
       "      <th>7</th>\n",
       "      <td>35</td>\n",
       "      <td>30</td>\n",
       "    </tr>\n",
       "    <tr>\n",
       "      <th>8</th>\n",
       "      <td>66</td>\n",
       "      <td>68</td>\n",
       "    </tr>\n",
       "    <tr>\n",
       "      <th>9</th>\n",
       "      <td>67</td>\n",
       "      <td>73</td>\n",
       "    </tr>\n",
       "  </tbody>\n",
       "</table>\n",
       "</div>"
      ],
      "text/plain": [
       "   Maths   Physics\n",
       "0      92       98\n",
       "1      56       68\n",
       "2      88       81\n",
       "3      70       80\n",
       "4      80       83\n",
       "5      49       52\n",
       "6      65       66\n",
       "7      35       30\n",
       "8      66       68\n",
       "9      67       73"
      ]
     },
     "execution_count": 1,
     "metadata": {},
     "output_type": "execute_result"
    }
   ],
   "source": [
    "import pandas as pd\n",
    "d1 = pd.read_csv(\"C:\\\\Users\\\\raja.a.muthuraman\\\\Documents\\\\sample.csv\")\n",
    "d1"
   ]
  },
  {
   "cell_type": "code",
   "execution_count": 2,
   "id": "8cb8c280",
   "metadata": {},
   "outputs": [],
   "source": [
    "features = [\"Maths \"]\n",
    "response = [\"Physics\"]\n",
    "X=d1[features]\n",
    "y=d1[response]"
   ]
  },
  {
   "cell_type": "code",
   "execution_count": 3,
   "id": "7d49ead4",
   "metadata": {},
   "outputs": [],
   "source": [
    "#Dividing data in test and train\n",
    "from sklearn.model_selection import train_test_split\n",
    "X_train, X_test, y_train, y_test = train_test_split(X, y, test_size=0.3, random_state=0)\n",
    "\n",
    "#Importing neccesary packages\n",
    "from sklearn.linear_model import LinearRegression\n",
    "from sklearn import metrics"
   ]
  },
  {
   "cell_type": "code",
   "execution_count": 4,
   "id": "cb5a9ea4",
   "metadata": {},
   "outputs": [],
   "source": [
    "\n",
    "# Feature Scaling\n",
    "from sklearn.preprocessing import StandardScaler\n",
    "sc_X = StandardScaler()\n",
    "X_train = sc_X.fit_transform(X_train)\n",
    "X_test = sc_X.transform(X_test)\n",
    "sc_y = StandardScaler()\n",
    "y_train = sc_y.fit_transform(y_train)\n",
    "y_test = sc_X.transform(y_test)"
   ]
  },
  {
   "cell_type": "code",
   "execution_count": 5,
   "id": "37bf456b",
   "metadata": {},
   "outputs": [
    {
     "name": "stdout",
     "output_type": "stream",
     "text": [
      "X_train\n",
      "[[ 0.30096463]\n",
      " [-0.36115756]\n",
      " [ 0.18057878]\n",
      " [-1.62520902]\n",
      " [ 0.48154341]\n",
      " [ 1.8057878 ]\n",
      " [-0.78250805]]\n",
      "**********\n",
      "y_train\n",
      "[[ 0.31647306]\n",
      " [ 0.06473313]\n",
      " [-0.03596285]\n",
      " [-1.84849039]\n",
      " [ 0.66890897]\n",
      " [ 1.57517274]\n",
      " [-0.74083467]]\n",
      "**********\n",
      "X_test\n",
      "[[1.56501609]\n",
      " [0.24077171]\n",
      " [1.08347268]]\n",
      "**********\n",
      "y_test\n",
      "[[1.1436656 ]\n",
      " [0.36115756]\n",
      " [1.26405146]]\n"
     ]
    }
   ],
   "source": [
    "print('X_train')\n",
    "print(X_train)\n",
    "print('**********')\n",
    "print('y_train')\n",
    "print(y_train)\n",
    "print('**********')\n",
    "print('X_test')\n",
    "print(X_test)\n",
    "print('**********')\n",
    "print('y_test')\n",
    "print(y_test)"
   ]
  },
  {
   "cell_type": "code",
   "execution_count": 6,
   "id": "3c9afeb3",
   "metadata": {},
   "outputs": [
    {
     "name": "stdout",
     "output_type": "stream",
     "text": [
      "[[0.97368614]]\n",
      "[3.16789232e-16]\n"
     ]
    }
   ],
   "source": [
    "#using sklearn method\n",
    "from sklearn import linear_model\n",
    "reg = linear_model.LinearRegression()\n",
    "reg.fit(X_train,y_train)\n",
    "print(reg.coef_)\n",
    "print(reg.intercept_)"
   ]
  },
  {
   "cell_type": "code",
   "execution_count": 7,
   "id": "877f47ff",
   "metadata": {},
   "outputs": [],
   "source": [
    "y_pred = reg.predict(X_train)"
   ]
  },
  {
   "cell_type": "code",
   "execution_count": 8,
   "id": "434f7f2d",
   "metadata": {},
   "outputs": [
    {
     "data": {
      "text/plain": [
       "array([[ 0.29304509],\n",
       "       [-0.35165411],\n",
       "       [ 0.17582705],\n",
       "       [-1.58244349],\n",
       "       [ 0.46887215],\n",
       "       [ 1.75827055],\n",
       "       [-0.76191724]])"
      ]
     },
     "execution_count": 8,
     "metadata": {},
     "output_type": "execute_result"
    }
   ],
   "source": [
    "y_pred"
   ]
  },
  {
   "cell_type": "code",
   "execution_count": 9,
   "id": "53cdceef",
   "metadata": {},
   "outputs": [
    {
     "name": "stdout",
     "output_type": "stream",
     "text": [
      "MSE: 0.05\n",
      "R^2: 0.95\n"
     ]
    }
   ],
   "source": [
    "from sklearn.metrics import mean_squared_error,r2_score\n",
    "print('MSE: %.2f' % mean_squared_error(y_train, y_pred))\n",
    "print('R^2: %.2f' % r2_score(y_train, y_pred))"
   ]
  },
  {
   "cell_type": "code",
   "execution_count": 10,
   "id": "f113c328",
   "metadata": {},
   "outputs": [
    {
     "data": {
      "text/plain": [
       "array([[1.52383447],\n",
       "       [0.23443607],\n",
       "       [1.05496233]])"
      ]
     },
     "execution_count": 10,
     "metadata": {},
     "output_type": "execute_result"
    }
   ],
   "source": [
    "test_predict = reg.predict(X_test)\n",
    "test_predict"
   ]
  },
  {
   "cell_type": "code",
   "execution_count": 11,
   "id": "2cdea46f",
   "metadata": {},
   "outputs": [
    {
     "data": {
      "text/plain": [
       "array([[1.1436656 ],\n",
       "       [0.36115756],\n",
       "       [1.26405146]])"
      ]
     },
     "execution_count": 11,
     "metadata": {},
     "output_type": "execute_result"
    }
   ],
   "source": [
    "test_actual = y_test\n",
    "test_actual"
   ]
  },
  {
   "cell_type": "code",
   "execution_count": 12,
   "id": "71950044",
   "metadata": {},
   "outputs": [
    {
     "name": "stdout",
     "output_type": "stream",
     "text": [
      "MSE: 0.07\n",
      "R^2: 0.57\n"
     ]
    }
   ],
   "source": [
    "print('MSE: %.2f' % mean_squared_error(test_actual, test_predict))\n",
    "print('R^2: %.2f' % r2_score(test_actual, test_predict))"
   ]
  },
  {
   "cell_type": "code",
   "execution_count": 13,
   "id": "113ab407",
   "metadata": {},
   "outputs": [
    {
     "name": "stdout",
     "output_type": "stream",
     "text": [
      "[[81.]\n",
      " [68.]\n",
      " [83.]]\n",
      "[[87.3158396 ]\n",
      " [65.89474455]\n",
      " [79.52635049]]\n"
     ]
    }
   ],
   "source": [
    "# for inverse transformation\n",
    "inversed_test_actual = sc_X.inverse_transform(test_actual)\n",
    "print(inversed_test_actual)\n",
    "inversed_test_predict = sc_X.inverse_transform(test_predict)\n",
    "print(inversed_test_predict)"
   ]
  },
  {
   "cell_type": "code",
   "execution_count": null,
   "id": "2278a28b",
   "metadata": {},
   "outputs": [],
   "source": []
  }
 ],
 "metadata": {
  "kernelspec": {
   "display_name": "Python 3 (ipykernel)",
   "language": "python",
   "name": "python3"
  },
  "language_info": {
   "codemirror_mode": {
    "name": "ipython",
    "version": 3
   },
   "file_extension": ".py",
   "mimetype": "text/x-python",
   "name": "python",
   "nbconvert_exporter": "python",
   "pygments_lexer": "ipython3",
   "version": "3.9.7"
  }
 },
 "nbformat": 4,
 "nbformat_minor": 5
}
