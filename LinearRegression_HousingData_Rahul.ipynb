{
 "cells": [
  {
   "cell_type": "code",
   "execution_count": 383,
   "id": "8ff5b4ac",
   "metadata": {},
   "outputs": [],
   "source": [
    "import pandas as pd\n",
    "import numpy as np\n",
    "import matplotlib.pyplot as plt"
   ]
  },
  {
   "cell_type": "code",
   "execution_count": 384,
   "id": "2a70ca44",
   "metadata": {},
   "outputs": [],
   "source": [
    "data = pd.read_csv('C:\\\\Users\\\\signi\\\\Downloads\\\\Linear Regression\\\\04-SEP\\\\Housing.csv')"
   ]
  },
  {
   "cell_type": "code",
   "execution_count": 417,
   "id": "d7c9005c",
   "metadata": {
    "scrolled": true
   },
   "outputs": [
    {
     "data": {
      "text/html": [
       "<div>\n",
       "<style scoped>\n",
       "    .dataframe tbody tr th:only-of-type {\n",
       "        vertical-align: middle;\n",
       "    }\n",
       "\n",
       "    .dataframe tbody tr th {\n",
       "        vertical-align: top;\n",
       "    }\n",
       "\n",
       "    .dataframe thead th {\n",
       "        text-align: right;\n",
       "    }\n",
       "</style>\n",
       "<table border=\"1\" class=\"dataframe\">\n",
       "  <thead>\n",
       "    <tr style=\"text-align: right;\">\n",
       "      <th></th>\n",
       "      <th>Suburb</th>\n",
       "      <th>Address</th>\n",
       "      <th>Rooms</th>\n",
       "      <th>Type</th>\n",
       "      <th>Price</th>\n",
       "      <th>Method</th>\n",
       "      <th>SellerG</th>\n",
       "      <th>Date</th>\n",
       "      <th>Distance</th>\n",
       "      <th>Postcode</th>\n",
       "      <th>Bedroom2</th>\n",
       "      <th>Bathroom</th>\n",
       "      <th>Car</th>\n",
       "      <th>Landsize</th>\n",
       "      <th>BuildingArea</th>\n",
       "      <th>YearBuilt</th>\n",
       "      <th>CouncilArea</th>\n",
       "      <th>Regionname</th>\n",
       "      <th>Propertycount</th>\n",
       "    </tr>\n",
       "  </thead>\n",
       "  <tbody>\n",
       "    <tr>\n",
       "      <th>2</th>\n",
       "      <td>Abbotsford</td>\n",
       "      <td>25 Bloomburg St</td>\n",
       "      <td>2</td>\n",
       "      <td>h</td>\n",
       "      <td>1.035000e+06</td>\n",
       "      <td>S</td>\n",
       "      <td>Biggin</td>\n",
       "      <td>4/2/2016</td>\n",
       "      <td>2.5</td>\n",
       "      <td>3067.0</td>\n",
       "      <td>2.0</td>\n",
       "      <td>1.0</td>\n",
       "      <td>0.0</td>\n",
       "      <td>156.0</td>\n",
       "      <td>79.0000</td>\n",
       "      <td>1900.0</td>\n",
       "      <td>Yarra City Council</td>\n",
       "      <td>Northern Metropolitan</td>\n",
       "      <td>4019.0</td>\n",
       "    </tr>\n",
       "    <tr>\n",
       "      <th>4</th>\n",
       "      <td>Abbotsford</td>\n",
       "      <td>5 Charles St</td>\n",
       "      <td>3</td>\n",
       "      <td>h</td>\n",
       "      <td>1.465000e+06</td>\n",
       "      <td>SP</td>\n",
       "      <td>Biggin</td>\n",
       "      <td>4/3/2017</td>\n",
       "      <td>2.5</td>\n",
       "      <td>3067.0</td>\n",
       "      <td>3.0</td>\n",
       "      <td>2.0</td>\n",
       "      <td>0.0</td>\n",
       "      <td>134.0</td>\n",
       "      <td>150.0000</td>\n",
       "      <td>1900.0</td>\n",
       "      <td>Yarra City Council</td>\n",
       "      <td>Northern Metropolitan</td>\n",
       "      <td>4019.0</td>\n",
       "    </tr>\n",
       "    <tr>\n",
       "      <th>6</th>\n",
       "      <td>Abbotsford</td>\n",
       "      <td>55a Park St</td>\n",
       "      <td>4</td>\n",
       "      <td>h</td>\n",
       "      <td>1.600000e+06</td>\n",
       "      <td>VB</td>\n",
       "      <td>Nelson</td>\n",
       "      <td>4/6/2016</td>\n",
       "      <td>2.5</td>\n",
       "      <td>3067.0</td>\n",
       "      <td>3.0</td>\n",
       "      <td>1.0</td>\n",
       "      <td>2.0</td>\n",
       "      <td>120.0</td>\n",
       "      <td>142.0000</td>\n",
       "      <td>2014.0</td>\n",
       "      <td>Yarra City Council</td>\n",
       "      <td>Northern Metropolitan</td>\n",
       "      <td>4019.0</td>\n",
       "    </tr>\n",
       "    <tr>\n",
       "      <th>7</th>\n",
       "      <td>Abbotsford</td>\n",
       "      <td>16 Maugie St</td>\n",
       "      <td>4</td>\n",
       "      <td>h</td>\n",
       "      <td>1.050173e+06</td>\n",
       "      <td>SN</td>\n",
       "      <td>Nelson</td>\n",
       "      <td>6/8/2016</td>\n",
       "      <td>2.5</td>\n",
       "      <td>3067.0</td>\n",
       "      <td>3.0</td>\n",
       "      <td>2.0</td>\n",
       "      <td>2.0</td>\n",
       "      <td>400.0</td>\n",
       "      <td>220.0000</td>\n",
       "      <td>2006.0</td>\n",
       "      <td>Yarra City Council</td>\n",
       "      <td>Northern Metropolitan</td>\n",
       "      <td>4019.0</td>\n",
       "    </tr>\n",
       "    <tr>\n",
       "      <th>8</th>\n",
       "      <td>Abbotsford</td>\n",
       "      <td>53 Turner St</td>\n",
       "      <td>2</td>\n",
       "      <td>h</td>\n",
       "      <td>1.050173e+06</td>\n",
       "      <td>S</td>\n",
       "      <td>Biggin</td>\n",
       "      <td>6/8/2016</td>\n",
       "      <td>2.5</td>\n",
       "      <td>3067.0</td>\n",
       "      <td>4.0</td>\n",
       "      <td>1.0</td>\n",
       "      <td>2.0</td>\n",
       "      <td>201.0</td>\n",
       "      <td>160.2564</td>\n",
       "      <td>1900.0</td>\n",
       "      <td>Yarra City Council</td>\n",
       "      <td>Northern Metropolitan</td>\n",
       "      <td>4019.0</td>\n",
       "    </tr>\n",
       "  </tbody>\n",
       "</table>\n",
       "</div>"
      ],
      "text/plain": [
       "       Suburb          Address  Rooms Type         Price Method SellerG  \\\n",
       "2  Abbotsford  25 Bloomburg St      2    h  1.035000e+06      S  Biggin   \n",
       "4  Abbotsford     5 Charles St      3    h  1.465000e+06     SP  Biggin   \n",
       "6  Abbotsford      55a Park St      4    h  1.600000e+06     VB  Nelson   \n",
       "7  Abbotsford     16 Maugie St      4    h  1.050173e+06     SN  Nelson   \n",
       "8  Abbotsford     53 Turner St      2    h  1.050173e+06      S  Biggin   \n",
       "\n",
       "       Date  Distance  Postcode  Bedroom2  Bathroom  Car  Landsize  \\\n",
       "2  4/2/2016       2.5    3067.0       2.0       1.0  0.0     156.0   \n",
       "4  4/3/2017       2.5    3067.0       3.0       2.0  0.0     134.0   \n",
       "6  4/6/2016       2.5    3067.0       3.0       1.0  2.0     120.0   \n",
       "7  6/8/2016       2.5    3067.0       3.0       2.0  2.0     400.0   \n",
       "8  6/8/2016       2.5    3067.0       4.0       1.0  2.0     201.0   \n",
       "\n",
       "   BuildingArea  YearBuilt         CouncilArea             Regionname  \\\n",
       "2       79.0000     1900.0  Yarra City Council  Northern Metropolitan   \n",
       "4      150.0000     1900.0  Yarra City Council  Northern Metropolitan   \n",
       "6      142.0000     2014.0  Yarra City Council  Northern Metropolitan   \n",
       "7      220.0000     2006.0  Yarra City Council  Northern Metropolitan   \n",
       "8      160.2564     1900.0  Yarra City Council  Northern Metropolitan   \n",
       "\n",
       "   Propertycount  \n",
       "2         4019.0  \n",
       "4         4019.0  \n",
       "6         4019.0  \n",
       "7         4019.0  \n",
       "8         4019.0  "
      ]
     },
     "execution_count": 417,
     "metadata": {},
     "output_type": "execute_result"
    }
   ],
   "source": [
    "data.head()"
   ]
  },
  {
   "cell_type": "code",
   "execution_count": 419,
   "id": "12fa99e5",
   "metadata": {},
   "outputs": [
    {
     "name": "stdout",
     "output_type": "stream",
     "text": [
      "<class 'pandas.core.frame.DataFrame'>\n",
      "Int64Index: 23451 entries, 0 to 34856\n",
      "Data columns (total 20 columns):\n",
      " #   Column         Non-Null Count  Dtype  \n",
      "---  ------         --------------  -----  \n",
      " 0   Suburb         15551 non-null  object \n",
      " 1   Address        15551 non-null  object \n",
      " 2   Rooms          15551 non-null  float64\n",
      " 3   Price          15551 non-null  float64\n",
      " 4   Method         15551 non-null  object \n",
      " 5   SellerG        15551 non-null  object \n",
      " 6   Date           15551 non-null  object \n",
      " 7   Distance       15551 non-null  float64\n",
      " 8   Postcode       15551 non-null  float64\n",
      " 9   Bedroom2       15551 non-null  float64\n",
      " 10  Bathroom       15551 non-null  float64\n",
      " 11  Car            15551 non-null  float64\n",
      " 12  Landsize       15551 non-null  float64\n",
      " 13  BuildingArea   15551 non-null  float64\n",
      " 14  YearBuilt      15551 non-null  float64\n",
      " 15  CouncilArea    15551 non-null  object \n",
      " 16  Regionname     15551 non-null  object \n",
      " 17  Propertycount  15551 non-null  float64\n",
      " 18  t              15551 non-null  float64\n",
      " 19  u              15551 non-null  float64\n",
      "dtypes: float64(13), object(7)\n",
      "memory usage: 3.8+ MB\n"
     ]
    }
   ],
   "source": [
    "data.info()"
   ]
  },
  {
   "cell_type": "code",
   "execution_count": 426,
   "id": "cefb5618",
   "metadata": {},
   "outputs": [
    {
     "data": {
      "text/html": [
       "<div>\n",
       "<style scoped>\n",
       "    .dataframe tbody tr th:only-of-type {\n",
       "        vertical-align: middle;\n",
       "    }\n",
       "\n",
       "    .dataframe tbody tr th {\n",
       "        vertical-align: top;\n",
       "    }\n",
       "\n",
       "    .dataframe thead th {\n",
       "        text-align: right;\n",
       "    }\n",
       "</style>\n",
       "<table border=\"1\" class=\"dataframe\">\n",
       "  <thead>\n",
       "    <tr style=\"text-align: right;\">\n",
       "      <th></th>\n",
       "      <th>Rooms</th>\n",
       "      <th>Price</th>\n",
       "      <th>Distance</th>\n",
       "      <th>Postcode</th>\n",
       "      <th>Bedroom2</th>\n",
       "      <th>Bathroom</th>\n",
       "      <th>Car</th>\n",
       "      <th>Landsize</th>\n",
       "      <th>BuildingArea</th>\n",
       "      <th>YearBuilt</th>\n",
       "      <th>Propertycount</th>\n",
       "      <th>t</th>\n",
       "      <th>u</th>\n",
       "    </tr>\n",
       "  </thead>\n",
       "  <tbody>\n",
       "    <tr>\n",
       "      <th>count</th>\n",
       "      <td>15551.000000</td>\n",
       "      <td>1.555100e+04</td>\n",
       "      <td>15551.000000</td>\n",
       "      <td>15551.000000</td>\n",
       "      <td>15551.000000</td>\n",
       "      <td>15551.000000</td>\n",
       "      <td>15551.000000</td>\n",
       "      <td>15551.000000</td>\n",
       "      <td>15551.000000</td>\n",
       "      <td>15551.000000</td>\n",
       "      <td>15551.000000</td>\n",
       "      <td>15551.000000</td>\n",
       "      <td>15551.000000</td>\n",
       "    </tr>\n",
       "    <tr>\n",
       "      <th>mean</th>\n",
       "      <td>3.108417</td>\n",
       "      <td>1.071176e+06</td>\n",
       "      <td>11.152556</td>\n",
       "      <td>3117.081024</td>\n",
       "      <td>3.090284</td>\n",
       "      <td>1.670311</td>\n",
       "      <td>1.676355</td>\n",
       "      <td>538.897097</td>\n",
       "      <td>154.851651</td>\n",
       "      <td>1965.289885</td>\n",
       "      <td>7520.285962</td>\n",
       "      <td>0.082053</td>\n",
       "      <td>0.181467</td>\n",
       "    </tr>\n",
       "    <tr>\n",
       "      <th>std</th>\n",
       "      <td>0.986442</td>\n",
       "      <td>5.918821e+05</td>\n",
       "      <td>6.945424</td>\n",
       "      <td>115.273642</td>\n",
       "      <td>1.008684</td>\n",
       "      <td>0.735096</td>\n",
       "      <td>1.016016</td>\n",
       "      <td>989.419712</td>\n",
       "      <td>82.114050</td>\n",
       "      <td>37.328178</td>\n",
       "      <td>4302.265039</td>\n",
       "      <td>0.274454</td>\n",
       "      <td>0.385417</td>\n",
       "    </tr>\n",
       "    <tr>\n",
       "      <th>min</th>\n",
       "      <td>1.000000</td>\n",
       "      <td>8.500000e+04</td>\n",
       "      <td>0.000000</td>\n",
       "      <td>3000.000000</td>\n",
       "      <td>0.000000</td>\n",
       "      <td>0.000000</td>\n",
       "      <td>0.000000</td>\n",
       "      <td>0.000000</td>\n",
       "      <td>0.000000</td>\n",
       "      <td>1196.000000</td>\n",
       "      <td>129.000000</td>\n",
       "      <td>0.000000</td>\n",
       "      <td>0.000000</td>\n",
       "    </tr>\n",
       "    <tr>\n",
       "      <th>25%</th>\n",
       "      <td>2.000000</td>\n",
       "      <td>7.000000e+05</td>\n",
       "      <td>6.300000</td>\n",
       "      <td>3047.000000</td>\n",
       "      <td>2.000000</td>\n",
       "      <td>1.000000</td>\n",
       "      <td>1.000000</td>\n",
       "      <td>231.000000</td>\n",
       "      <td>108.000000</td>\n",
       "      <td>1940.000000</td>\n",
       "      <td>4442.000000</td>\n",
       "      <td>0.000000</td>\n",
       "      <td>0.000000</td>\n",
       "    </tr>\n",
       "    <tr>\n",
       "      <th>50%</th>\n",
       "      <td>3.000000</td>\n",
       "      <td>1.050173e+06</td>\n",
       "      <td>10.100000</td>\n",
       "      <td>3101.000000</td>\n",
       "      <td>3.000000</td>\n",
       "      <td>2.000000</td>\n",
       "      <td>2.000000</td>\n",
       "      <td>544.000000</td>\n",
       "      <td>150.000000</td>\n",
       "      <td>1970.000000</td>\n",
       "      <td>6763.000000</td>\n",
       "      <td>0.000000</td>\n",
       "      <td>0.000000</td>\n",
       "    </tr>\n",
       "    <tr>\n",
       "      <th>75%</th>\n",
       "      <td>4.000000</td>\n",
       "      <td>1.189000e+06</td>\n",
       "      <td>14.000000</td>\n",
       "      <td>3155.000000</td>\n",
       "      <td>4.000000</td>\n",
       "      <td>2.000000</td>\n",
       "      <td>2.000000</td>\n",
       "      <td>642.000000</td>\n",
       "      <td>175.000000</td>\n",
       "      <td>2000.000000</td>\n",
       "      <td>10331.000000</td>\n",
       "      <td>0.000000</td>\n",
       "      <td>0.000000</td>\n",
       "    </tr>\n",
       "    <tr>\n",
       "      <th>max</th>\n",
       "      <td>12.000000</td>\n",
       "      <td>9.000000e+06</td>\n",
       "      <td>48.100000</td>\n",
       "      <td>3978.000000</td>\n",
       "      <td>30.000000</td>\n",
       "      <td>12.000000</td>\n",
       "      <td>26.000000</td>\n",
       "      <td>42800.000000</td>\n",
       "      <td>3112.000000</td>\n",
       "      <td>2106.000000</td>\n",
       "      <td>21650.000000</td>\n",
       "      <td>1.000000</td>\n",
       "      <td>1.000000</td>\n",
       "    </tr>\n",
       "  </tbody>\n",
       "</table>\n",
       "</div>"
      ],
      "text/plain": [
       "              Rooms         Price      Distance      Postcode      Bedroom2  \\\n",
       "count  15551.000000  1.555100e+04  15551.000000  15551.000000  15551.000000   \n",
       "mean       3.108417  1.071176e+06     11.152556   3117.081024      3.090284   \n",
       "std        0.986442  5.918821e+05      6.945424    115.273642      1.008684   \n",
       "min        1.000000  8.500000e+04      0.000000   3000.000000      0.000000   \n",
       "25%        2.000000  7.000000e+05      6.300000   3047.000000      2.000000   \n",
       "50%        3.000000  1.050173e+06     10.100000   3101.000000      3.000000   \n",
       "75%        4.000000  1.189000e+06     14.000000   3155.000000      4.000000   \n",
       "max       12.000000  9.000000e+06     48.100000   3978.000000     30.000000   \n",
       "\n",
       "           Bathroom           Car      Landsize  BuildingArea     YearBuilt  \\\n",
       "count  15551.000000  15551.000000  15551.000000  15551.000000  15551.000000   \n",
       "mean       1.670311      1.676355    538.897097    154.851651   1965.289885   \n",
       "std        0.735096      1.016016    989.419712     82.114050     37.328178   \n",
       "min        0.000000      0.000000      0.000000      0.000000   1196.000000   \n",
       "25%        1.000000      1.000000    231.000000    108.000000   1940.000000   \n",
       "50%        2.000000      2.000000    544.000000    150.000000   1970.000000   \n",
       "75%        2.000000      2.000000    642.000000    175.000000   2000.000000   \n",
       "max       12.000000     26.000000  42800.000000   3112.000000   2106.000000   \n",
       "\n",
       "       Propertycount             t             u  \n",
       "count   15551.000000  15551.000000  15551.000000  \n",
       "mean     7520.285962      0.082053      0.181467  \n",
       "std      4302.265039      0.274454      0.385417  \n",
       "min       129.000000      0.000000      0.000000  \n",
       "25%      4442.000000      0.000000      0.000000  \n",
       "50%      6763.000000      0.000000      0.000000  \n",
       "75%     10331.000000      0.000000      0.000000  \n",
       "max     21650.000000      1.000000      1.000000  "
      ]
     },
     "execution_count": 426,
     "metadata": {},
     "output_type": "execute_result"
    }
   ],
   "source": [
    "data.describe()"
   ]
  },
  {
   "cell_type": "code",
   "execution_count": 416,
   "id": "dbc52c24",
   "metadata": {},
   "outputs": [],
   "source": [
    "# data1 = data\n",
    "# data2= data\n",
    "# data3 = data"
   ]
  },
  {
   "cell_type": "code",
   "execution_count": 414,
   "id": "0c7608bd",
   "metadata": {},
   "outputs": [
    {
     "data": {
      "text/plain": [
       "Suburb           0\n",
       "Address          0\n",
       "Rooms            0\n",
       "Type             0\n",
       "Price            0\n",
       "Method           0\n",
       "SellerG          0\n",
       "Date             0\n",
       "Distance         0\n",
       "Postcode         0\n",
       "Bedroom2         0\n",
       "Bathroom         0\n",
       "Car              0\n",
       "Landsize         0\n",
       "BuildingArea     0\n",
       "YearBuilt        0\n",
       "CouncilArea      0\n",
       "Regionname       0\n",
       "Propertycount    0\n",
       "dtype: int64"
      ]
     },
     "execution_count": 414,
     "metadata": {},
     "output_type": "execute_result"
    }
   ],
   "source": [
    "data.isnull().sum()"
   ]
  },
  {
   "cell_type": "code",
   "execution_count": 391,
   "id": "bb8123a6",
   "metadata": {},
   "outputs": [],
   "source": [
    "#Filing null value with MEAN for Price Column\n",
    "\n",
    "mean = data['Landsize'].mean()  \n",
    "mean\n",
    "data['Landsize'].fillna(value=mean, inplace=True)"
   ]
  },
  {
   "cell_type": "code",
   "execution_count": 186,
   "id": "b84ba165",
   "metadata": {},
   "outputs": [],
   "source": [
    "#Filing null value with MEAN for BuildingArea Column\n",
    "\n",
    "mean_sq = data['Landsize'].mean()  \n",
    "mean_sq\n",
    "data['Landsize'].fillna(value=mean_sq, inplace=True)"
   ]
  },
  {
   "cell_type": "code",
   "execution_count": 406,
   "id": "fe4d55c5",
   "metadata": {},
   "outputs": [],
   "source": [
    "data['Postcode'].fillna(value=0, inplace=True)"
   ]
  },
  {
   "cell_type": "code",
   "execution_count": 425,
   "id": "b33edb85",
   "metadata": {},
   "outputs": [],
   "source": [
    "data.drop(['Regionname'], axis=1,inplace = True)"
   ]
  },
  {
   "cell_type": "code",
   "execution_count": 436,
   "id": "99313dcf",
   "metadata": {},
   "outputs": [],
   "source": [
    "data = data.dropna(how = 'any',axis = 0)"
   ]
  },
  {
   "cell_type": "code",
   "execution_count": 437,
   "id": "aa1f9e10",
   "metadata": {
    "scrolled": true
   },
   "outputs": [
    {
     "data": {
      "text/html": [
       "<div>\n",
       "<style scoped>\n",
       "    .dataframe tbody tr th:only-of-type {\n",
       "        vertical-align: middle;\n",
       "    }\n",
       "\n",
       "    .dataframe tbody tr th {\n",
       "        vertical-align: top;\n",
       "    }\n",
       "\n",
       "    .dataframe thead th {\n",
       "        text-align: right;\n",
       "    }\n",
       "</style>\n",
       "<table border=\"1\" class=\"dataframe\">\n",
       "  <thead>\n",
       "    <tr style=\"text-align: right;\">\n",
       "      <th></th>\n",
       "      <th>Rooms</th>\n",
       "      <th>Price</th>\n",
       "      <th>Method</th>\n",
       "      <th>Distance</th>\n",
       "      <th>Postcode</th>\n",
       "      <th>Bedroom2</th>\n",
       "      <th>Bathroom</th>\n",
       "      <th>Car</th>\n",
       "      <th>Landsize</th>\n",
       "      <th>BuildingArea</th>\n",
       "      <th>YearBuilt</th>\n",
       "      <th>Propertycount</th>\n",
       "      <th>t</th>\n",
       "      <th>u</th>\n",
       "    </tr>\n",
       "  </thead>\n",
       "  <tbody>\n",
       "  </tbody>\n",
       "</table>\n",
       "</div>"
      ],
      "text/plain": [
       "Empty DataFrame\n",
       "Columns: [Rooms, Price, Method, Distance, Postcode, Bedroom2, Bathroom, Car, Landsize, BuildingArea, YearBuilt, Propertycount, t, u]\n",
       "Index: []"
      ]
     },
     "execution_count": 437,
     "metadata": {},
     "output_type": "execute_result"
    }
   ],
   "source": [
    "data[data['Price'].isna()]"
   ]
  },
  {
   "cell_type": "code",
   "execution_count": 438,
   "id": "1d98d3ee",
   "metadata": {
    "scrolled": true
   },
   "outputs": [
    {
     "data": {
      "text/plain": [
       "Index(['Rooms', 'Price', 'Method', 'Distance', 'Postcode', 'Bedroom2',\n",
       "       'Bathroom', 'Car', 'Landsize', 'BuildingArea', 'YearBuilt',\n",
       "       'Propertycount', 't', 'u'],\n",
       "      dtype='object')"
      ]
     },
     "execution_count": 438,
     "metadata": {},
     "output_type": "execute_result"
    }
   ],
   "source": [
    "# data.columns\n",
    "data_final = data\n",
    "data_final.columns"
   ]
  },
  {
   "cell_type": "code",
   "execution_count": 418,
   "id": "a054c192",
   "metadata": {},
   "outputs": [
    {
     "data": {
      "text/html": [
       "<div>\n",
       "<style scoped>\n",
       "    .dataframe tbody tr th:only-of-type {\n",
       "        vertical-align: middle;\n",
       "    }\n",
       "\n",
       "    .dataframe tbody tr th {\n",
       "        vertical-align: top;\n",
       "    }\n",
       "\n",
       "    .dataframe thead th {\n",
       "        text-align: right;\n",
       "    }\n",
       "</style>\n",
       "<table border=\"1\" class=\"dataframe\">\n",
       "  <thead>\n",
       "    <tr style=\"text-align: right;\">\n",
       "      <th></th>\n",
       "      <th>Suburb</th>\n",
       "      <th>Address</th>\n",
       "      <th>Rooms</th>\n",
       "      <th>Price</th>\n",
       "      <th>Method</th>\n",
       "      <th>SellerG</th>\n",
       "      <th>Date</th>\n",
       "      <th>Distance</th>\n",
       "      <th>Postcode</th>\n",
       "      <th>Bedroom2</th>\n",
       "      <th>Bathroom</th>\n",
       "      <th>Car</th>\n",
       "      <th>Landsize</th>\n",
       "      <th>BuildingArea</th>\n",
       "      <th>YearBuilt</th>\n",
       "      <th>CouncilArea</th>\n",
       "      <th>Regionname</th>\n",
       "      <th>Propertycount</th>\n",
       "      <th>t</th>\n",
       "      <th>u</th>\n",
       "    </tr>\n",
       "  </thead>\n",
       "  <tbody>\n",
       "    <tr>\n",
       "      <th>0</th>\n",
       "      <td>Abbotsford</td>\n",
       "      <td>25 Bloomburg St</td>\n",
       "      <td>2.0</td>\n",
       "      <td>1.035000e+06</td>\n",
       "      <td>S</td>\n",
       "      <td>Biggin</td>\n",
       "      <td>4/2/2016</td>\n",
       "      <td>2.5</td>\n",
       "      <td>3067.0</td>\n",
       "      <td>2.0</td>\n",
       "      <td>1.0</td>\n",
       "      <td>0.0</td>\n",
       "      <td>156.0</td>\n",
       "      <td>79.0000</td>\n",
       "      <td>1900.0</td>\n",
       "      <td>Yarra City Council</td>\n",
       "      <td>Northern Metropolitan</td>\n",
       "      <td>4019.0</td>\n",
       "      <td>NaN</td>\n",
       "      <td>NaN</td>\n",
       "    </tr>\n",
       "    <tr>\n",
       "      <th>1</th>\n",
       "      <td>Abbotsford</td>\n",
       "      <td>5 Charles St</td>\n",
       "      <td>3.0</td>\n",
       "      <td>1.465000e+06</td>\n",
       "      <td>SP</td>\n",
       "      <td>Biggin</td>\n",
       "      <td>4/3/2017</td>\n",
       "      <td>2.5</td>\n",
       "      <td>3067.0</td>\n",
       "      <td>3.0</td>\n",
       "      <td>2.0</td>\n",
       "      <td>0.0</td>\n",
       "      <td>134.0</td>\n",
       "      <td>150.0000</td>\n",
       "      <td>1900.0</td>\n",
       "      <td>Yarra City Council</td>\n",
       "      <td>Northern Metropolitan</td>\n",
       "      <td>4019.0</td>\n",
       "      <td>NaN</td>\n",
       "      <td>NaN</td>\n",
       "    </tr>\n",
       "    <tr>\n",
       "      <th>2</th>\n",
       "      <td>Abbotsford</td>\n",
       "      <td>55a Park St</td>\n",
       "      <td>4.0</td>\n",
       "      <td>1.600000e+06</td>\n",
       "      <td>VB</td>\n",
       "      <td>Nelson</td>\n",
       "      <td>4/6/2016</td>\n",
       "      <td>2.5</td>\n",
       "      <td>3067.0</td>\n",
       "      <td>3.0</td>\n",
       "      <td>1.0</td>\n",
       "      <td>2.0</td>\n",
       "      <td>120.0</td>\n",
       "      <td>142.0000</td>\n",
       "      <td>2014.0</td>\n",
       "      <td>Yarra City Council</td>\n",
       "      <td>Northern Metropolitan</td>\n",
       "      <td>4019.0</td>\n",
       "      <td>0.0</td>\n",
       "      <td>0.0</td>\n",
       "    </tr>\n",
       "    <tr>\n",
       "      <th>3</th>\n",
       "      <td>Abbotsford</td>\n",
       "      <td>16 Maugie St</td>\n",
       "      <td>4.0</td>\n",
       "      <td>1.050173e+06</td>\n",
       "      <td>SN</td>\n",
       "      <td>Nelson</td>\n",
       "      <td>6/8/2016</td>\n",
       "      <td>2.5</td>\n",
       "      <td>3067.0</td>\n",
       "      <td>3.0</td>\n",
       "      <td>2.0</td>\n",
       "      <td>2.0</td>\n",
       "      <td>400.0</td>\n",
       "      <td>220.0000</td>\n",
       "      <td>2006.0</td>\n",
       "      <td>Yarra City Council</td>\n",
       "      <td>Northern Metropolitan</td>\n",
       "      <td>4019.0</td>\n",
       "      <td>NaN</td>\n",
       "      <td>NaN</td>\n",
       "    </tr>\n",
       "    <tr>\n",
       "      <th>4</th>\n",
       "      <td>Abbotsford</td>\n",
       "      <td>53 Turner St</td>\n",
       "      <td>2.0</td>\n",
       "      <td>1.050173e+06</td>\n",
       "      <td>S</td>\n",
       "      <td>Biggin</td>\n",
       "      <td>6/8/2016</td>\n",
       "      <td>2.5</td>\n",
       "      <td>3067.0</td>\n",
       "      <td>4.0</td>\n",
       "      <td>1.0</td>\n",
       "      <td>2.0</td>\n",
       "      <td>201.0</td>\n",
       "      <td>160.2564</td>\n",
       "      <td>1900.0</td>\n",
       "      <td>Yarra City Council</td>\n",
       "      <td>Northern Metropolitan</td>\n",
       "      <td>4019.0</td>\n",
       "      <td>0.0</td>\n",
       "      <td>0.0</td>\n",
       "    </tr>\n",
       "    <tr>\n",
       "      <th>...</th>\n",
       "      <td>...</td>\n",
       "      <td>...</td>\n",
       "      <td>...</td>\n",
       "      <td>...</td>\n",
       "      <td>...</td>\n",
       "      <td>...</td>\n",
       "      <td>...</td>\n",
       "      <td>...</td>\n",
       "      <td>...</td>\n",
       "      <td>...</td>\n",
       "      <td>...</td>\n",
       "      <td>...</td>\n",
       "      <td>...</td>\n",
       "      <td>...</td>\n",
       "      <td>...</td>\n",
       "      <td>...</td>\n",
       "      <td>...</td>\n",
       "      <td>...</td>\n",
       "      <td>...</td>\n",
       "      <td>...</td>\n",
       "    </tr>\n",
       "    <tr>\n",
       "      <th>34849</th>\n",
       "      <td>NaN</td>\n",
       "      <td>NaN</td>\n",
       "      <td>NaN</td>\n",
       "      <td>NaN</td>\n",
       "      <td>NaN</td>\n",
       "      <td>NaN</td>\n",
       "      <td>NaN</td>\n",
       "      <td>NaN</td>\n",
       "      <td>NaN</td>\n",
       "      <td>NaN</td>\n",
       "      <td>NaN</td>\n",
       "      <td>NaN</td>\n",
       "      <td>NaN</td>\n",
       "      <td>NaN</td>\n",
       "      <td>NaN</td>\n",
       "      <td>NaN</td>\n",
       "      <td>NaN</td>\n",
       "      <td>NaN</td>\n",
       "      <td>0.0</td>\n",
       "      <td>0.0</td>\n",
       "    </tr>\n",
       "    <tr>\n",
       "      <th>34850</th>\n",
       "      <td>NaN</td>\n",
       "      <td>NaN</td>\n",
       "      <td>NaN</td>\n",
       "      <td>NaN</td>\n",
       "      <td>NaN</td>\n",
       "      <td>NaN</td>\n",
       "      <td>NaN</td>\n",
       "      <td>NaN</td>\n",
       "      <td>NaN</td>\n",
       "      <td>NaN</td>\n",
       "      <td>NaN</td>\n",
       "      <td>NaN</td>\n",
       "      <td>NaN</td>\n",
       "      <td>NaN</td>\n",
       "      <td>NaN</td>\n",
       "      <td>NaN</td>\n",
       "      <td>NaN</td>\n",
       "      <td>NaN</td>\n",
       "      <td>0.0</td>\n",
       "      <td>0.0</td>\n",
       "    </tr>\n",
       "    <tr>\n",
       "      <th>34853</th>\n",
       "      <td>NaN</td>\n",
       "      <td>NaN</td>\n",
       "      <td>NaN</td>\n",
       "      <td>NaN</td>\n",
       "      <td>NaN</td>\n",
       "      <td>NaN</td>\n",
       "      <td>NaN</td>\n",
       "      <td>NaN</td>\n",
       "      <td>NaN</td>\n",
       "      <td>NaN</td>\n",
       "      <td>NaN</td>\n",
       "      <td>NaN</td>\n",
       "      <td>NaN</td>\n",
       "      <td>NaN</td>\n",
       "      <td>NaN</td>\n",
       "      <td>NaN</td>\n",
       "      <td>NaN</td>\n",
       "      <td>NaN</td>\n",
       "      <td>0.0</td>\n",
       "      <td>0.0</td>\n",
       "    </tr>\n",
       "    <tr>\n",
       "      <th>34854</th>\n",
       "      <td>NaN</td>\n",
       "      <td>NaN</td>\n",
       "      <td>NaN</td>\n",
       "      <td>NaN</td>\n",
       "      <td>NaN</td>\n",
       "      <td>NaN</td>\n",
       "      <td>NaN</td>\n",
       "      <td>NaN</td>\n",
       "      <td>NaN</td>\n",
       "      <td>NaN</td>\n",
       "      <td>NaN</td>\n",
       "      <td>NaN</td>\n",
       "      <td>NaN</td>\n",
       "      <td>NaN</td>\n",
       "      <td>NaN</td>\n",
       "      <td>NaN</td>\n",
       "      <td>NaN</td>\n",
       "      <td>NaN</td>\n",
       "      <td>1.0</td>\n",
       "      <td>0.0</td>\n",
       "    </tr>\n",
       "    <tr>\n",
       "      <th>34856</th>\n",
       "      <td>NaN</td>\n",
       "      <td>NaN</td>\n",
       "      <td>NaN</td>\n",
       "      <td>NaN</td>\n",
       "      <td>NaN</td>\n",
       "      <td>NaN</td>\n",
       "      <td>NaN</td>\n",
       "      <td>NaN</td>\n",
       "      <td>NaN</td>\n",
       "      <td>NaN</td>\n",
       "      <td>NaN</td>\n",
       "      <td>NaN</td>\n",
       "      <td>NaN</td>\n",
       "      <td>NaN</td>\n",
       "      <td>NaN</td>\n",
       "      <td>NaN</td>\n",
       "      <td>NaN</td>\n",
       "      <td>NaN</td>\n",
       "      <td>0.0</td>\n",
       "      <td>0.0</td>\n",
       "    </tr>\n",
       "  </tbody>\n",
       "</table>\n",
       "<p>23451 rows × 20 columns</p>\n",
       "</div>"
      ],
      "text/plain": [
       "           Suburb          Address  Rooms         Price Method SellerG  \\\n",
       "0      Abbotsford  25 Bloomburg St    2.0  1.035000e+06      S  Biggin   \n",
       "1      Abbotsford     5 Charles St    3.0  1.465000e+06     SP  Biggin   \n",
       "2      Abbotsford      55a Park St    4.0  1.600000e+06     VB  Nelson   \n",
       "3      Abbotsford     16 Maugie St    4.0  1.050173e+06     SN  Nelson   \n",
       "4      Abbotsford     53 Turner St    2.0  1.050173e+06      S  Biggin   \n",
       "...           ...              ...    ...           ...    ...     ...   \n",
       "34849         NaN              NaN    NaN           NaN    NaN     NaN   \n",
       "34850         NaN              NaN    NaN           NaN    NaN     NaN   \n",
       "34853         NaN              NaN    NaN           NaN    NaN     NaN   \n",
       "34854         NaN              NaN    NaN           NaN    NaN     NaN   \n",
       "34856         NaN              NaN    NaN           NaN    NaN     NaN   \n",
       "\n",
       "           Date  Distance  Postcode  Bedroom2  Bathroom  Car  Landsize  \\\n",
       "0      4/2/2016       2.5    3067.0       2.0       1.0  0.0     156.0   \n",
       "1      4/3/2017       2.5    3067.0       3.0       2.0  0.0     134.0   \n",
       "2      4/6/2016       2.5    3067.0       3.0       1.0  2.0     120.0   \n",
       "3      6/8/2016       2.5    3067.0       3.0       2.0  2.0     400.0   \n",
       "4      6/8/2016       2.5    3067.0       4.0       1.0  2.0     201.0   \n",
       "...         ...       ...       ...       ...       ...  ...       ...   \n",
       "34849       NaN       NaN       NaN       NaN       NaN  NaN       NaN   \n",
       "34850       NaN       NaN       NaN       NaN       NaN  NaN       NaN   \n",
       "34853       NaN       NaN       NaN       NaN       NaN  NaN       NaN   \n",
       "34854       NaN       NaN       NaN       NaN       NaN  NaN       NaN   \n",
       "34856       NaN       NaN       NaN       NaN       NaN  NaN       NaN   \n",
       "\n",
       "       BuildingArea  YearBuilt         CouncilArea             Regionname  \\\n",
       "0           79.0000     1900.0  Yarra City Council  Northern Metropolitan   \n",
       "1          150.0000     1900.0  Yarra City Council  Northern Metropolitan   \n",
       "2          142.0000     2014.0  Yarra City Council  Northern Metropolitan   \n",
       "3          220.0000     2006.0  Yarra City Council  Northern Metropolitan   \n",
       "4          160.2564     1900.0  Yarra City Council  Northern Metropolitan   \n",
       "...             ...        ...                 ...                    ...   \n",
       "34849           NaN        NaN                 NaN                    NaN   \n",
       "34850           NaN        NaN                 NaN                    NaN   \n",
       "34853           NaN        NaN                 NaN                    NaN   \n",
       "34854           NaN        NaN                 NaN                    NaN   \n",
       "34856           NaN        NaN                 NaN                    NaN   \n",
       "\n",
       "       Propertycount    t    u  \n",
       "0             4019.0  NaN  NaN  \n",
       "1             4019.0  NaN  NaN  \n",
       "2             4019.0  0.0  0.0  \n",
       "3             4019.0  NaN  NaN  \n",
       "4             4019.0  0.0  0.0  \n",
       "...              ...  ...  ...  \n",
       "34849            NaN  0.0  0.0  \n",
       "34850            NaN  0.0  0.0  \n",
       "34853            NaN  0.0  0.0  \n",
       "34854            NaN  1.0  0.0  \n",
       "34856            NaN  0.0  0.0  \n",
       "\n",
       "[23451 rows x 20 columns]"
      ]
     },
     "execution_count": 418,
     "metadata": {},
     "output_type": "execute_result"
    }
   ],
   "source": [
    "# ohe = pd.get_dummies(data['Type'], drop_first=True)\n",
    "# ohe\n",
    "# data = pd.concat([data.reset_index(drop=True),ohe],axis=1)\n",
    "# data\n",
    "# data = data.drop('Type',axis=1)\n",
    "# data"
   ]
  },
  {
   "cell_type": "code",
   "execution_count": 428,
   "id": "3300cda5",
   "metadata": {},
   "outputs": [
    {
     "data": {
      "text/plain": [
       "Index(['Rooms', 'Price', 'Method', 'Distance', 'Postcode', 'Bedroom2',\n",
       "       'Bathroom', 'Car', 'Landsize', 'BuildingArea', 'YearBuilt',\n",
       "       'Propertycount', 't', 'u'],\n",
       "      dtype='object')"
      ]
     },
     "execution_count": 428,
     "metadata": {},
     "output_type": "execute_result"
    }
   ],
   "source": [
    "data.columns"
   ]
  },
  {
   "cell_type": "code",
   "execution_count": 439,
   "id": "7fef961d",
   "metadata": {
    "scrolled": true
   },
   "outputs": [],
   "source": [
    "features = [\"Rooms\",\"Distance\",\"Postcode\",\"Bedroom2\",\"Bathroom\",\"Car\",\"Landsize\",\"BuildingArea\",\"YearBuilt\",\"Propertycount\",\"t\"]\n",
    "response = [\"Price\"]\n",
    "# X is independent variables\n",
    "# Y is dependent variable\n",
    "X=data[features].values\n",
    "y=data[response].values\n",
    "# print(X)\n",
    "# print('**************************')\n",
    "# print(y)"
   ]
  },
  {
   "cell_type": "code",
   "execution_count": 447,
   "id": "d425494c",
   "metadata": {},
   "outputs": [],
   "source": [
    "from sklearn.linear_model import LinearRegression\n",
    "from sklearn.model_selection import train_test_split"
   ]
  },
  {
   "cell_type": "code",
   "execution_count": 448,
   "id": "1ead9e78",
   "metadata": {},
   "outputs": [],
   "source": [
    "X_train, X_test, y_train, y_test = train_test_split(X, y, test_size=0.3, random_state=0)"
   ]
  },
  {
   "cell_type": "code",
   "execution_count": 449,
   "id": "119ed3c5",
   "metadata": {},
   "outputs": [],
   "source": [
    "model = LinearRegression()"
   ]
  },
  {
   "cell_type": "code",
   "execution_count": 450,
   "id": "b99d271c",
   "metadata": {},
   "outputs": [],
   "source": [
    "model = model.fit(X_train,y_train)"
   ]
  },
  {
   "cell_type": "code",
   "execution_count": 451,
   "id": "0929810c",
   "metadata": {},
   "outputs": [
    {
     "name": "stdout",
     "output_type": "stream",
     "text": [
      "[[ 1.05298361e+05 -2.80302349e+04  8.07461569e+02  4.12765292e+04\n",
      "   1.54849104e+05  2.94076901e+04  1.75364566e+01  1.34893454e+03\n",
      "  -3.73053506e+03 -1.76553497e+00  3.11320120e+04]]\n",
      "[5226140.98587113]\n"
     ]
    }
   ],
   "source": [
    "print(model.coef_)\n",
    "print(model.intercept_)"
   ]
  },
  {
   "cell_type": "code",
   "execution_count": 445,
   "id": "9b5eba98",
   "metadata": {},
   "outputs": [
    {
     "data": {
      "text/html": [
       "<table class=\"simpletable\">\n",
       "<caption>OLS Regression Results</caption>\n",
       "<tr>\n",
       "  <th>Dep. Variable:</th>            <td>y</td>        <th>  R-squared:         </th> <td>   0.403</td> \n",
       "</tr>\n",
       "<tr>\n",
       "  <th>Model:</th>                   <td>OLS</td>       <th>  Adj. R-squared:    </th> <td>   0.401</td> \n",
       "</tr>\n",
       "<tr>\n",
       "  <th>Method:</th>             <td>Least Squares</td>  <th>  F-statistic:       </th> <td>   327.4</td> \n",
       "</tr>\n",
       "<tr>\n",
       "  <th>Date:</th>             <td>Mon, 05 Sep 2022</td> <th>  Prob (F-statistic):</th>  <td>  0.00</td>  \n",
       "</tr>\n",
       "<tr>\n",
       "  <th>Time:</th>                 <td>23:06:59</td>     <th>  Log-Likelihood:    </th> <td> -77383.</td> \n",
       "</tr>\n",
       "<tr>\n",
       "  <th>No. Observations:</th>      <td>  5355</td>      <th>  AIC:               </th> <td>1.548e+05</td>\n",
       "</tr>\n",
       "<tr>\n",
       "  <th>Df Residuals:</th>          <td>  5343</td>      <th>  BIC:               </th> <td>1.549e+05</td>\n",
       "</tr>\n",
       "<tr>\n",
       "  <th>Df Model:</th>              <td>    11</td>      <th>                     </th>     <td> </td>    \n",
       "</tr>\n",
       "<tr>\n",
       "  <th>Covariance Type:</th>      <td>nonrobust</td>    <th>                     </th>     <td> </td>    \n",
       "</tr>\n",
       "</table>\n",
       "<table class=\"simpletable\">\n",
       "<tr>\n",
       "    <td></td>       <th>coef</th>     <th>std err</th>      <th>t</th>      <th>P>|t|</th>  <th>[0.025</th>    <th>0.975]</th>  \n",
       "</tr>\n",
       "<tr>\n",
       "  <th>const</th> <td> 5.226e+06</td> <td> 4.46e+05</td> <td>   11.712</td> <td> 0.000</td> <td> 4.35e+06</td> <td>  6.1e+06</td>\n",
       "</tr>\n",
       "<tr>\n",
       "  <th>x1</th>    <td> 1.053e+05</td> <td> 2.56e+04</td> <td>    4.114</td> <td> 0.000</td> <td> 5.51e+04</td> <td> 1.55e+05</td>\n",
       "</tr>\n",
       "<tr>\n",
       "  <th>x2</th>    <td>-2.803e+04</td> <td> 1193.103</td> <td>  -23.494</td> <td> 0.000</td> <td>-3.04e+04</td> <td>-2.57e+04</td>\n",
       "</tr>\n",
       "<tr>\n",
       "  <th>x3</th>    <td>  807.4616</td> <td>   66.230</td> <td>   12.192</td> <td> 0.000</td> <td>  677.624</td> <td>  937.299</td>\n",
       "</tr>\n",
       "<tr>\n",
       "  <th>x4</th>    <td> 4.128e+04</td> <td> 2.55e+04</td> <td>    1.620</td> <td> 0.105</td> <td>-8682.120</td> <td> 9.12e+04</td>\n",
       "</tr>\n",
       "<tr>\n",
       "  <th>x5</th>    <td> 1.548e+05</td> <td> 1.21e+04</td> <td>   12.749</td> <td> 0.000</td> <td> 1.31e+05</td> <td> 1.79e+05</td>\n",
       "</tr>\n",
       "<tr>\n",
       "  <th>x6</th>    <td> 2.941e+04</td> <td> 6931.170</td> <td>    4.243</td> <td> 0.000</td> <td> 1.58e+04</td> <td>  4.3e+04</td>\n",
       "</tr>\n",
       "<tr>\n",
       "  <th>x7</th>    <td>   17.5365</td> <td>    8.136</td> <td>    2.155</td> <td> 0.031</td> <td>    1.587</td> <td>   33.486</td>\n",
       "</tr>\n",
       "<tr>\n",
       "  <th>x8</th>    <td> 1348.9345</td> <td>  101.331</td> <td>   13.312</td> <td> 0.000</td> <td> 1150.285</td> <td> 1547.584</td>\n",
       "</tr>\n",
       "<tr>\n",
       "  <th>x9</th>    <td>-3730.5351</td> <td>  191.520</td> <td>  -19.479</td> <td> 0.000</td> <td>-4105.993</td> <td>-3355.078</td>\n",
       "</tr>\n",
       "<tr>\n",
       "  <th>x10</th>   <td>   -1.7655</td> <td>    1.434</td> <td>   -1.231</td> <td> 0.218</td> <td>   -4.577</td> <td>    1.046</td>\n",
       "</tr>\n",
       "<tr>\n",
       "  <th>x11</th>   <td> 3.113e+04</td> <td> 2.15e+04</td> <td>    1.450</td> <td> 0.147</td> <td>-1.09e+04</td> <td> 7.32e+04</td>\n",
       "</tr>\n",
       "</table>\n",
       "<table class=\"simpletable\">\n",
       "<tr>\n",
       "  <th>Omnibus:</th>       <td>3779.034</td> <th>  Durbin-Watson:     </th>  <td>   2.015</td> \n",
       "</tr>\n",
       "<tr>\n",
       "  <th>Prob(Omnibus):</th>  <td> 0.000</td>  <th>  Jarque-Bera (JB):  </th> <td>180077.876</td>\n",
       "</tr>\n",
       "<tr>\n",
       "  <th>Skew:</th>           <td> 2.825</td>  <th>  Prob(JB):          </th>  <td>    0.00</td> \n",
       "</tr>\n",
       "<tr>\n",
       "  <th>Kurtosis:</th>       <td>30.842</td>  <th>  Cond. No.          </th>  <td>6.70e+05</td> \n",
       "</tr>\n",
       "</table><br/><br/>Notes:<br/>[1] Standard Errors assume that the covariance matrix of the errors is correctly specified.<br/>[2] The condition number is large, 6.7e+05. This might indicate that there are<br/>strong multicollinearity or other numerical problems."
      ],
      "text/plain": [
       "<class 'statsmodels.iolib.summary.Summary'>\n",
       "\"\"\"\n",
       "                            OLS Regression Results                            \n",
       "==============================================================================\n",
       "Dep. Variable:                      y   R-squared:                       0.403\n",
       "Model:                            OLS   Adj. R-squared:                  0.401\n",
       "Method:                 Least Squares   F-statistic:                     327.4\n",
       "Date:                Mon, 05 Sep 2022   Prob (F-statistic):               0.00\n",
       "Time:                        23:06:59   Log-Likelihood:                -77383.\n",
       "No. Observations:                5355   AIC:                         1.548e+05\n",
       "Df Residuals:                    5343   BIC:                         1.549e+05\n",
       "Df Model:                          11                                         \n",
       "Covariance Type:            nonrobust                                         \n",
       "==============================================================================\n",
       "                 coef    std err          t      P>|t|      [0.025      0.975]\n",
       "------------------------------------------------------------------------------\n",
       "const       5.226e+06   4.46e+05     11.712      0.000    4.35e+06     6.1e+06\n",
       "x1          1.053e+05   2.56e+04      4.114      0.000    5.51e+04    1.55e+05\n",
       "x2         -2.803e+04   1193.103    -23.494      0.000   -3.04e+04   -2.57e+04\n",
       "x3           807.4616     66.230     12.192      0.000     677.624     937.299\n",
       "x4          4.128e+04   2.55e+04      1.620      0.105   -8682.120    9.12e+04\n",
       "x5          1.548e+05   1.21e+04     12.749      0.000    1.31e+05    1.79e+05\n",
       "x6          2.941e+04   6931.170      4.243      0.000    1.58e+04     4.3e+04\n",
       "x7            17.5365      8.136      2.155      0.031       1.587      33.486\n",
       "x8          1348.9345    101.331     13.312      0.000    1150.285    1547.584\n",
       "x9         -3730.5351    191.520    -19.479      0.000   -4105.993   -3355.078\n",
       "x10           -1.7655      1.434     -1.231      0.218      -4.577       1.046\n",
       "x11         3.113e+04   2.15e+04      1.450      0.147   -1.09e+04    7.32e+04\n",
       "==============================================================================\n",
       "Omnibus:                     3779.034   Durbin-Watson:                   2.015\n",
       "Prob(Omnibus):                  0.000   Jarque-Bera (JB):           180077.876\n",
       "Skew:                           2.825   Prob(JB):                         0.00\n",
       "Kurtosis:                      30.842   Cond. No.                     6.70e+05\n",
       "==============================================================================\n",
       "\n",
       "Notes:\n",
       "[1] Standard Errors assume that the covariance matrix of the errors is correctly specified.\n",
       "[2] The condition number is large, 6.7e+05. This might indicate that there are\n",
       "strong multicollinearity or other numerical problems.\n",
       "\"\"\""
      ]
     },
     "execution_count": 445,
     "metadata": {},
     "output_type": "execute_result"
    }
   ],
   "source": [
    "import statsmodels.api as sm\n",
    "X_with_constant = sm.add_constant(X_train)\n",
    "model = sm.OLS(y_train, X_with_constant)\n",
    "results = model.fit()\n",
    "results.params\n",
    "results.summary()"
   ]
  },
  {
   "cell_type": "code",
   "execution_count": 452,
   "id": "6ac5d3cc",
   "metadata": {},
   "outputs": [
    {
     "data": {
      "text/html": [
       "<div>\n",
       "<style scoped>\n",
       "    .dataframe tbody tr th:only-of-type {\n",
       "        vertical-align: middle;\n",
       "    }\n",
       "\n",
       "    .dataframe tbody tr th {\n",
       "        vertical-align: top;\n",
       "    }\n",
       "\n",
       "    .dataframe thead th {\n",
       "        text-align: right;\n",
       "    }\n",
       "</style>\n",
       "<table border=\"1\" class=\"dataframe\">\n",
       "  <thead>\n",
       "    <tr style=\"text-align: right;\">\n",
       "      <th></th>\n",
       "      <th>y_test</th>\n",
       "      <th>y_pred</th>\n",
       "    </tr>\n",
       "  </thead>\n",
       "  <tbody>\n",
       "    <tr>\n",
       "      <th>0</th>\n",
       "      <td>1.212500e+06</td>\n",
       "      <td>1.405823e+06</td>\n",
       "    </tr>\n",
       "    <tr>\n",
       "      <th>1</th>\n",
       "      <td>1.050173e+06</td>\n",
       "      <td>8.592882e+05</td>\n",
       "    </tr>\n",
       "    <tr>\n",
       "      <th>2</th>\n",
       "      <td>7.000000e+05</td>\n",
       "      <td>8.151848e+05</td>\n",
       "    </tr>\n",
       "    <tr>\n",
       "      <th>3</th>\n",
       "      <td>1.975000e+06</td>\n",
       "      <td>1.221344e+06</td>\n",
       "    </tr>\n",
       "    <tr>\n",
       "      <th>4</th>\n",
       "      <td>5.820000e+05</td>\n",
       "      <td>7.607330e+05</td>\n",
       "    </tr>\n",
       "    <tr>\n",
       "      <th>...</th>\n",
       "      <td>...</td>\n",
       "      <td>...</td>\n",
       "    </tr>\n",
       "    <tr>\n",
       "      <th>5350</th>\n",
       "      <td>1.245000e+06</td>\n",
       "      <td>1.032631e+06</td>\n",
       "    </tr>\n",
       "    <tr>\n",
       "      <th>5351</th>\n",
       "      <td>5.000000e+05</td>\n",
       "      <td>7.699479e+05</td>\n",
       "    </tr>\n",
       "    <tr>\n",
       "      <th>5352</th>\n",
       "      <td>1.050173e+06</td>\n",
       "      <td>1.340036e+06</td>\n",
       "    </tr>\n",
       "    <tr>\n",
       "      <th>5353</th>\n",
       "      <td>6.050000e+05</td>\n",
       "      <td>7.803103e+05</td>\n",
       "    </tr>\n",
       "    <tr>\n",
       "      <th>5354</th>\n",
       "      <td>5.500000e+06</td>\n",
       "      <td>2.263646e+06</td>\n",
       "    </tr>\n",
       "  </tbody>\n",
       "</table>\n",
       "<p>5355 rows × 2 columns</p>\n",
       "</div>"
      ],
      "text/plain": [
       "            y_test        y_pred\n",
       "0     1.212500e+06  1.405823e+06\n",
       "1     1.050173e+06  8.592882e+05\n",
       "2     7.000000e+05  8.151848e+05\n",
       "3     1.975000e+06  1.221344e+06\n",
       "4     5.820000e+05  7.607330e+05\n",
       "...            ...           ...\n",
       "5350  1.245000e+06  1.032631e+06\n",
       "5351  5.000000e+05  7.699479e+05\n",
       "5352  1.050173e+06  1.340036e+06\n",
       "5353  6.050000e+05  7.803103e+05\n",
       "5354  5.500000e+06  2.263646e+06\n",
       "\n",
       "[5355 rows x 2 columns]"
      ]
     },
     "execution_count": 452,
     "metadata": {},
     "output_type": "execute_result"
    }
   ],
   "source": [
    "y_pred = model.predict(X_train)\n",
    "df = pd.DataFrame(data = y_train ,columns =['y_test'])\n",
    "df['y_pred'] = y_pred\n",
    "df"
   ]
  },
  {
   "cell_type": "code",
   "execution_count": 453,
   "id": "977c0672",
   "metadata": {},
   "outputs": [
    {
     "name": "stdout",
     "output_type": "stream",
     "text": [
      "MSE: 208560899273.28\n",
      "R^2: 0.40\n"
     ]
    }
   ],
   "source": [
    "from sklearn.metrics import mean_squared_error,r2_score\n",
    "print('MSE: %.2f' % mean_squared_error(y_train, y_pred))\n",
    "print('R^2: %.2f' % r2_score(y_train, y_pred))"
   ]
  },
  {
   "cell_type": "code",
   "execution_count": 454,
   "id": "89a60410",
   "metadata": {},
   "outputs": [],
   "source": [
    "y_predict = model.predict(X_test)"
   ]
  },
  {
   "cell_type": "code",
   "execution_count": 455,
   "id": "6ba7151b",
   "metadata": {},
   "outputs": [
    {
     "data": {
      "text/html": [
       "<div>\n",
       "<style scoped>\n",
       "    .dataframe tbody tr th:only-of-type {\n",
       "        vertical-align: middle;\n",
       "    }\n",
       "\n",
       "    .dataframe tbody tr th {\n",
       "        vertical-align: top;\n",
       "    }\n",
       "\n",
       "    .dataframe thead th {\n",
       "        text-align: right;\n",
       "    }\n",
       "</style>\n",
       "<table border=\"1\" class=\"dataframe\">\n",
       "  <thead>\n",
       "    <tr style=\"text-align: right;\">\n",
       "      <th></th>\n",
       "      <th>y_test</th>\n",
       "      <th>y_predict</th>\n",
       "    </tr>\n",
       "  </thead>\n",
       "  <tbody>\n",
       "    <tr>\n",
       "      <th>0</th>\n",
       "      <td>2.160000e+06</td>\n",
       "      <td>1.493997e+06</td>\n",
       "    </tr>\n",
       "    <tr>\n",
       "      <th>1</th>\n",
       "      <td>1.050173e+06</td>\n",
       "      <td>1.290171e+06</td>\n",
       "    </tr>\n",
       "    <tr>\n",
       "      <th>2</th>\n",
       "      <td>1.050173e+06</td>\n",
       "      <td>8.752490e+05</td>\n",
       "    </tr>\n",
       "    <tr>\n",
       "      <th>3</th>\n",
       "      <td>1.925000e+06</td>\n",
       "      <td>1.590480e+06</td>\n",
       "    </tr>\n",
       "    <tr>\n",
       "      <th>4</th>\n",
       "      <td>1.050173e+06</td>\n",
       "      <td>6.506356e+05</td>\n",
       "    </tr>\n",
       "    <tr>\n",
       "      <th>...</th>\n",
       "      <td>...</td>\n",
       "      <td>...</td>\n",
       "    </tr>\n",
       "    <tr>\n",
       "      <th>2291</th>\n",
       "      <td>5.980000e+05</td>\n",
       "      <td>7.152012e+05</td>\n",
       "    </tr>\n",
       "    <tr>\n",
       "      <th>2292</th>\n",
       "      <td>7.510000e+05</td>\n",
       "      <td>1.240022e+06</td>\n",
       "    </tr>\n",
       "    <tr>\n",
       "      <th>2293</th>\n",
       "      <td>7.000000e+05</td>\n",
       "      <td>4.894002e+05</td>\n",
       "    </tr>\n",
       "    <tr>\n",
       "      <th>2294</th>\n",
       "      <td>4.770000e+05</td>\n",
       "      <td>9.894463e+05</td>\n",
       "    </tr>\n",
       "    <tr>\n",
       "      <th>2295</th>\n",
       "      <td>4.250000e+05</td>\n",
       "      <td>6.872590e+05</td>\n",
       "    </tr>\n",
       "  </tbody>\n",
       "</table>\n",
       "<p>2296 rows × 2 columns</p>\n",
       "</div>"
      ],
      "text/plain": [
       "            y_test     y_predict\n",
       "0     2.160000e+06  1.493997e+06\n",
       "1     1.050173e+06  1.290171e+06\n",
       "2     1.050173e+06  8.752490e+05\n",
       "3     1.925000e+06  1.590480e+06\n",
       "4     1.050173e+06  6.506356e+05\n",
       "...            ...           ...\n",
       "2291  5.980000e+05  7.152012e+05\n",
       "2292  7.510000e+05  1.240022e+06\n",
       "2293  7.000000e+05  4.894002e+05\n",
       "2294  4.770000e+05  9.894463e+05\n",
       "2295  4.250000e+05  6.872590e+05\n",
       "\n",
       "[2296 rows x 2 columns]"
      ]
     },
     "execution_count": 455,
     "metadata": {},
     "output_type": "execute_result"
    }
   ],
   "source": [
    "df = pd.DataFrame(data = y_test ,columns =['y_test'])\n",
    "df['y_predict'] = y_predict\n",
    "df"
   ]
  },
  {
   "cell_type": "code",
   "execution_count": 456,
   "id": "2caf6dd1",
   "metadata": {},
   "outputs": [
    {
     "name": "stdout",
     "output_type": "stream",
     "text": [
      "MSE: 187774033636.58\n",
      "R^2: 0.38\n"
     ]
    }
   ],
   "source": [
    "from sklearn.metrics import mean_squared_error,r2_score\n",
    "print('MSE: %.2f' % mean_squared_error(y_test, y_predict))\n",
    "print('R^2: %.2f' % r2_score(y_test, y_predict))"
   ]
  },
  {
   "cell_type": "code",
   "execution_count": 457,
   "id": "bd7cd57d",
   "metadata": {
    "scrolled": true
   },
   "outputs": [
    {
     "data": {
      "image/png": "[encoded data removed]",
      "text/plain": [
       "<Figure size 432x288 with 1 Axes>"
      ]
     },
     "metadata": {
      "needs_background": "light"
     },
     "output_type": "display_data"
    }
   ],
   "source": [
    "plt.scatter(y_train,y_pred,color='yellow');"
   ]
  },
  {
   "cell_type": "code",
   "execution_count": 458,
   "id": "d70991f4",
   "metadata": {},
   "outputs": [
    {
     "name": "stdout",
     "output_type": "stream",
     "text": [
      "[[1212500.        ]\n",
      " [1050173.34495541]\n",
      " [ 700000.        ]\n",
      " ...\n",
      " [1050173.34495541]\n",
      " [ 605000.        ]\n",
      " [5500000.        ]]\n"
     ]
    }
   ],
   "source": [
    "print(y_train)"
   ]
  },
  {
   "cell_type": "markdown",
   "id": "9a152d81",
   "metadata": {},
   "source": [
    "# Applying Standarization"
   ]
  },
  {
   "cell_type": "code",
   "execution_count": 533,
   "id": "7a178d09",
   "metadata": {
    "scrolled": true
   },
   "outputs": [],
   "source": [
    "from sklearn.preprocessing import StandardScaler\n",
    "sc_X = StandardScaler()\n",
    "X_strain = sc_X.fit_transform(X_train)\n",
    "X_stest = sc_X.transform(X_test)\n",
    "sc_y = StandardScaler()\n",
    "y_strain = sc_y.fit_transform(y_train)\n",
    "y_stest = sc_y.transform(y_test)"
   ]
  },
  {
   "cell_type": "code",
   "execution_count": 534,
   "id": "b10418a9",
   "metadata": {},
   "outputs": [
    {
     "name": "stdout",
     "output_type": "stream",
     "text": [
      "[[ 0.17597618 -0.32253751  0.14928963  0.0688473   0.19064829  0.05123242\n",
      "   0.02309783  0.18281864 -0.23233908 -0.01306997  0.01535738]]\n",
      "[-7.40871271e-16]\n"
     ]
    }
   ],
   "source": [
    "#using sklearn method\n",
    "from sklearn import linear_model\n",
    "model = linear_model.LinearRegression()\n",
    "model.fit(X_strain,y_strain)\n",
    "print(model.coef_)\n",
    "print(model.intercept_)"
   ]
  },
  {
   "cell_type": "code",
   "execution_count": 535,
   "id": "324fe2b3",
   "metadata": {},
   "outputs": [],
   "source": [
    "y_pred = model.predict(X_strain)"
   ]
  },
  {
   "cell_type": "code",
   "execution_count": 536,
   "id": "705b582c",
   "metadata": {},
   "outputs": [
    {
     "data": {
      "text/plain": [
       "array([[ 0.57244429],\n",
       "       [-0.35253035],\n",
       "       [-0.4271724 ],\n",
       "       ...,\n",
       "       [ 0.46110497],\n",
       "       [-0.48619531],\n",
       "       [ 2.02425481]])"
      ]
     },
     "execution_count": 536,
     "metadata": {},
     "output_type": "execute_result"
    }
   ],
   "source": [
    "y_pred"
   ]
  },
  {
   "cell_type": "code",
   "execution_count": 537,
   "id": "605e97fb",
   "metadata": {},
   "outputs": [
    {
     "name": "stdout",
     "output_type": "stream",
     "text": [
      "MSE: 0.60\n",
      "R^2: 0.40\n"
     ]
    }
   ],
   "source": [
    "from sklearn.metrics import mean_squared_error,r2_score\n",
    "print('MSE: %.2f' % mean_squared_error(y_strain, y_pred))\n",
    "print('R^2: %.2f' % r2_score(y_strain, y_pred))"
   ]
  },
  {
   "cell_type": "code",
   "execution_count": 538,
   "id": "0f4eca4a",
   "metadata": {},
   "outputs": [
    {
     "data": {
      "text/plain": [
       "array([[ 0.72167357],\n",
       "       [ 0.3767109 ],\n",
       "       [-0.32551768],\n",
       "       ...,\n",
       "       [-0.9785421 ],\n",
       "       [-0.13224607],\n",
       "       [-0.64367872]])"
      ]
     },
     "execution_count": 538,
     "metadata": {},
     "output_type": "execute_result"
    }
   ],
   "source": [
    "test_predict = model.predict(X_stest)\n",
    "test_predict"
   ]
  },
  {
   "cell_type": "code",
   "execution_count": 539,
   "id": "269334e8",
   "metadata": {},
   "outputs": [
    {
     "data": {
      "text/plain": [
       "array([[ 1.84884136],\n",
       "       [-0.02946936],\n",
       "       [-0.02946936],\n",
       "       ...,\n",
       "       [-0.62211537],\n",
       "       [-0.99952862],\n",
       "       [-1.0875353 ]])"
      ]
     },
     "execution_count": 539,
     "metadata": {},
     "output_type": "execute_result"
    }
   ],
   "source": [
    "test_actual = y_stest\n",
    "test_actual"
   ]
  },
  {
   "cell_type": "code",
   "execution_count": 540,
   "id": "3b547e67",
   "metadata": {},
   "outputs": [
    {
     "name": "stdout",
     "output_type": "stream",
     "text": [
      "MSE: 0.54\n",
      "R^2: 0.38\n"
     ]
    }
   ],
   "source": [
    "print('MSE: %.2f' % mean_squared_error(test_actual, test_predict))\n",
    "print('R^2: %.2f' % r2_score(test_actual, test_predict))"
   ]
  },
  {
   "cell_type": "markdown",
   "id": "938e214e",
   "metadata": {
    "scrolled": true
   },
   "source": [
    "# Applying Normalization"
   ]
  },
  {
   "cell_type": "code",
   "execution_count": 542,
   "id": "3d33b62f",
   "metadata": {},
   "outputs": [],
   "source": [
    "from sklearn.preprocessing import MinMaxScaler\n",
    "# define min max scaler\n",
    "sc_X = MinMaxScaler()\n",
    "X_ntrain = sc_X.fit_transform(X_train)\n",
    "X_ntest = sc_X.transform(X_test)\n",
    "sc_y = MinMaxScaler()\n",
    "y_ntrain = sc_y.fit_transform(y_train)\n",
    "y_ntest = sc_y.transform(y_test)"
   ]
  },
  {
   "cell_type": "code",
   "execution_count": 543,
   "id": "1ffa44d0",
   "metadata": {},
   "outputs": [
    {
     "name": "stdout",
     "output_type": "stream",
     "text": [
      "[[ 0.08361753 -0.15295001  0.08949404  0.0421428   0.14053237  0.03336096\n",
      "   0.04316972  0.3063604  -0.08379421 -0.00425831  0.00353171]]\n",
      "[0.08832257]\n"
     ]
    }
   ],
   "source": [
    "#using sklearn method\n",
    "from sklearn import linear_model\n",
    "reg = linear_model.LinearRegression()\n",
    "reg.fit(X_ntrain,y_ntrain)\n",
    "print(reg.coef_)\n",
    "print(reg.intercept_)"
   ]
  },
  {
   "cell_type": "code",
   "execution_count": 581,
   "id": "ae7cf713",
   "metadata": {},
   "outputs": [],
   "source": [
    "y_pred = reg.predict(X_ntrain)"
   ]
  },
  {
   "cell_type": "code",
   "execution_count": 582,
   "id": "0de50c47",
   "metadata": {},
   "outputs": [
    {
     "data": {
      "text/plain": [
       "array([[0.11656268],\n",
       "       [0.09814786],\n",
       "       [0.05842314],\n",
       "       ...,\n",
       "       [0.09814786],\n",
       "       [0.04764606],\n",
       "       [0.60294952]])"
      ]
     },
     "execution_count": 582,
     "metadata": {},
     "output_type": "execute_result"
    }
   ],
   "source": [
    "y_ntrain"
   ]
  },
  {
   "cell_type": "code",
   "execution_count": 583,
   "id": "81b110c0",
   "metadata": {},
   "outputs": [
    {
     "data": {
      "text/plain": [
       "array([[0.13849377],\n",
       "       [0.07649327],\n",
       "       [0.07149005],\n",
       "       ...,\n",
       "       [0.13103076],\n",
       "       [0.06753378],\n",
       "       [0.23580778]])"
      ]
     },
     "execution_count": 583,
     "metadata": {},
     "output_type": "execute_result"
    }
   ],
   "source": [
    "y_pred"
   ]
  },
  {
   "cell_type": "code",
   "execution_count": 584,
   "id": "f1dba5d3",
   "metadata": {},
   "outputs": [
    {
     "name": "stdout",
     "output_type": "stream",
     "text": [
      "MSE: 0.00\n",
      "R^2: 0.40\n"
     ]
    }
   ],
   "source": [
    "from sklearn.metrics import mean_squared_error,r2_score\n",
    "print('MSE: %.2f' % mean_squared_error(y_ntrain, y_pred))\n",
    "print('R^2: %.2f' % r2_score(y_ntrain, y_pred))"
   ]
  },
  {
   "cell_type": "markdown",
   "id": "5cf4e714",
   "metadata": {},
   "source": [
    "On using NORMALIZATION, MSE has been reduced significantly in training data & Test Data."
   ]
  },
  {
   "cell_type": "code",
   "execution_count": 585,
   "id": "7ac841e4",
   "metadata": {},
   "outputs": [],
   "source": [
    "y_predict = reg.predict(X_ntest)"
   ]
  },
  {
   "cell_type": "code",
   "execution_count": 586,
   "id": "0a19023f",
   "metadata": {},
   "outputs": [
    {
     "data": {
      "text/plain": [
       "array([[0.22404991],\n",
       "       [0.09814786],\n",
       "       [0.09814786],\n",
       "       ...,\n",
       "       [0.05842314],\n",
       "       [0.03312535],\n",
       "       [0.02722632]])"
      ]
     },
     "execution_count": 586,
     "metadata": {},
     "output_type": "execute_result"
    }
   ],
   "source": [
    "y_ntest"
   ]
  },
  {
   "cell_type": "code",
   "execution_count": 587,
   "id": "4482ede1",
   "metadata": {},
   "outputs": [
    {
     "data": {
      "text/plain": [
       "array([[0.14849652],\n",
       "       [0.12537388],\n",
       "       [0.07830391],\n",
       "       ...,\n",
       "       [0.03453207],\n",
       "       [0.09125879],\n",
       "       [0.05697776]])"
      ]
     },
     "execution_count": 587,
     "metadata": {},
     "output_type": "execute_result"
    }
   ],
   "source": [
    "y_predict"
   ]
  },
  {
   "cell_type": "code",
   "execution_count": 588,
   "id": "7b08deae",
   "metadata": {},
   "outputs": [
    {
     "name": "stdout",
     "output_type": "stream",
     "text": [
      "MSE: 0.00\n",
      "R^2: 0.38\n"
     ]
    }
   ],
   "source": [
    "from sklearn.metrics import mean_squared_error,r2_score\n",
    "print('MSE: %.2f' % mean_squared_error(y_ntest, y_predict))\n",
    "print('R^2: %.2f' % r2_score(y_ntest, y_predict))"
   ]
  },
  {
   "cell_type": "code",
   "execution_count": 480,
   "id": "3e70add8",
   "metadata": {},
   "outputs": [
    {
     "data": {
      "text/plain": [
       "Index(['Rooms', 'Price', 'Distance', 'Postcode', 'Bedroom2', 'Bathroom', 'Car',\n",
       "       'Landsize', 'BuildingArea', 'YearBuilt', 'Propertycount', 't', 'u'],\n",
       "      dtype='object')"
      ]
     },
     "execution_count": 480,
     "metadata": {},
     "output_type": "execute_result"
    }
   ],
   "source": [
    "df5.columns"
   ]
  },
  {
   "cell_type": "code",
   "execution_count": 483,
   "id": "de3fd286",
   "metadata": {},
   "outputs": [
    {
     "data": {
      "text/html": [
       "<div>\n",
       "<style scoped>\n",
       "    .dataframe tbody tr th:only-of-type {\n",
       "        vertical-align: middle;\n",
       "    }\n",
       "\n",
       "    .dataframe tbody tr th {\n",
       "        vertical-align: top;\n",
       "    }\n",
       "\n",
       "    .dataframe thead th {\n",
       "        text-align: right;\n",
       "    }\n",
       "</style>\n",
       "<table border=\"1\" class=\"dataframe\">\n",
       "  <thead>\n",
       "    <tr style=\"text-align: right;\">\n",
       "      <th></th>\n",
       "      <th>VIF</th>\n",
       "      <th>Column</th>\n",
       "    </tr>\n",
       "  </thead>\n",
       "  <tbody>\n",
       "    <tr>\n",
       "      <th>3</th>\n",
       "      <td>783.246799</td>\n",
       "      <td>Postcode</td>\n",
       "    </tr>\n",
       "    <tr>\n",
       "      <th>9</th>\n",
       "      <td>746.473886</td>\n",
       "      <td>YearBuilt</td>\n",
       "    </tr>\n",
       "    <tr>\n",
       "      <th>0</th>\n",
       "      <td>193.945335</td>\n",
       "      <td>Rooms</td>\n",
       "    </tr>\n",
       "    <tr>\n",
       "      <th>4</th>\n",
       "      <td>192.122191</td>\n",
       "      <td>Bedroom2</td>\n",
       "    </tr>\n",
       "    <tr>\n",
       "      <th>5</th>\n",
       "      <td>11.533597</td>\n",
       "      <td>Bathroom</td>\n",
       "    </tr>\n",
       "    <tr>\n",
       "      <th>1</th>\n",
       "      <td>7.027884</td>\n",
       "      <td>Price</td>\n",
       "    </tr>\n",
       "    <tr>\n",
       "      <th>8</th>\n",
       "      <td>6.710757</td>\n",
       "      <td>BuildingArea</td>\n",
       "    </tr>\n",
       "    <tr>\n",
       "      <th>2</th>\n",
       "      <td>5.506962</td>\n",
       "      <td>Distance</td>\n",
       "    </tr>\n",
       "    <tr>\n",
       "      <th>6</th>\n",
       "      <td>4.539631</td>\n",
       "      <td>Car</td>\n",
       "    </tr>\n",
       "    <tr>\n",
       "      <th>10</th>\n",
       "      <td>4.070592</td>\n",
       "      <td>Propertycount</td>\n",
       "    </tr>\n",
       "    <tr>\n",
       "      <th>7</th>\n",
       "      <td>1.454065</td>\n",
       "      <td>Landsize</td>\n",
       "    </tr>\n",
       "    <tr>\n",
       "      <th>12</th>\n",
       "      <td>1.410203</td>\n",
       "      <td>u</td>\n",
       "    </tr>\n",
       "    <tr>\n",
       "      <th>11</th>\n",
       "      <td>1.147244</td>\n",
       "      <td>t</td>\n",
       "    </tr>\n",
       "  </tbody>\n",
       "</table>\n",
       "</div>"
      ],
      "text/plain": [
       "           VIF         Column\n",
       "3   783.246799       Postcode\n",
       "9   746.473886      YearBuilt\n",
       "0   193.945335          Rooms\n",
       "4   192.122191       Bedroom2\n",
       "5    11.533597       Bathroom\n",
       "1     7.027884          Price\n",
       "8     6.710757   BuildingArea\n",
       "2     5.506962       Distance\n",
       "6     4.539631            Car\n",
       "10    4.070592  Propertycount\n",
       "7     1.454065       Landsize\n",
       "12    1.410203              u\n",
       "11    1.147244              t"
      ]
     },
     "execution_count": 483,
     "metadata": {},
     "output_type": "execute_result"
    }
   ],
   "source": [
    "import statsmodels.api as sm\n",
    "from statsmodels.stats.outliers_influence import variance_inflation_factor\n",
    "\n",
    "X = data\n",
    "\n",
    "vif_info = pd.DataFrame()\n",
    "vif_info['VIF'] = [variance_inflation_factor(X.values, i) for i in range(X.shape[1])]\n",
    "vif_info['Column'] = X.columns\n",
    "vif_info.sort_values('VIF', ascending=False)"
   ]
  },
  {
   "cell_type": "code",
   "execution_count": 482,
   "id": "4a194fd9",
   "metadata": {},
   "outputs": [
    {
     "data": {
      "image/png": "[encoded data removed]",
      "text/plain": [
       "<Figure size 3200x1800 with 2 Axes>"
      ]
     },
     "metadata": {
      "needs_background": "light"
     },
     "output_type": "display_data"
    }
   ],
   "source": [
    "import seaborn as sns\n",
    "plt.figure(figsize=(16,9),dpi = 200) \n",
    "dataplot = sns.heatmap(data.corr(), cmap=\"YlGnBu\", annot=True)"
   ]
  },
  {
   "cell_type": "code",
   "execution_count": 562,
   "id": "763c7101",
   "metadata": {},
   "outputs": [],
   "source": [
    "features = [\"Rooms\",\"Distance\",\"Postcode\",\"Bedroom2\",\"Bathroom\",\"Car\",\"Landsize\",\"BuildingArea\",\"YearBuilt\",\"t\"]\n",
    "response = [\"Price\"]\n",
    "# X is independent variables\n",
    "# Y is dependent variable\n",
    "A=data[features].values\n",
    "B=data[response].values"
   ]
  },
  {
   "cell_type": "code",
   "execution_count": null,
   "id": "17f49bc1",
   "metadata": {},
   "outputs": [],
   "source": []
  },
  {
   "cell_type": "code",
   "execution_count": 563,
   "id": "950f2953",
   "metadata": {},
   "outputs": [],
   "source": [
    "from sklearn.linear_model import LinearRegression\n",
    "from sklearn.model_selection import train_test_split"
   ]
  },
  {
   "cell_type": "code",
   "execution_count": 564,
   "id": "bd03e266",
   "metadata": {},
   "outputs": [],
   "source": [
    "A_train, A_test, B_train, B_test = train_test_split(A, B, test_size=0.3, random_state=0)"
   ]
  },
  {
   "cell_type": "code",
   "execution_count": 565,
   "id": "b9203374",
   "metadata": {},
   "outputs": [],
   "source": [
    "model = LinearRegression()"
   ]
  },
  {
   "cell_type": "code",
   "execution_count": 566,
   "id": "2e66ddc2",
   "metadata": {},
   "outputs": [],
   "source": [
    "model = model.fit(A_train,B_train)"
   ]
  },
  {
   "cell_type": "code",
   "execution_count": 567,
   "id": "26a4e8aa",
   "metadata": {},
   "outputs": [
    {
     "name": "stdout",
     "output_type": "stream",
     "text": [
      "[[ 1.06063700e+05 -2.80033820e+04  8.05738411e+02  4.11080439e+04\n",
      "   1.54830214e+05  2.93206911e+04  1.75879468e+01  1.34863792e+03\n",
      "  -3.73590751e+03  3.21989925e+04]]\n",
      "[5226574.24938691]\n"
     ]
    }
   ],
   "source": [
    "print(model.coef_)\n",
    "print(model.intercept_)"
   ]
  },
  {
   "cell_type": "code",
   "execution_count": 568,
   "id": "66d26ba4",
   "metadata": {},
   "outputs": [
    {
     "data": {
      "text/html": [
       "<table class=\"simpletable\">\n",
       "<caption>OLS Regression Results</caption>\n",
       "<tr>\n",
       "  <th>Dep. Variable:</th>            <td>y</td>        <th>  R-squared:         </th> <td>   0.402</td> \n",
       "</tr>\n",
       "<tr>\n",
       "  <th>Model:</th>                   <td>OLS</td>       <th>  Adj. R-squared:    </th> <td>   0.401</td> \n",
       "</tr>\n",
       "<tr>\n",
       "  <th>Method:</th>             <td>Least Squares</td>  <th>  F-statistic:       </th> <td>   359.9</td> \n",
       "</tr>\n",
       "<tr>\n",
       "  <th>Date:</th>             <td>Mon, 05 Sep 2022</td> <th>  Prob (F-statistic):</th>  <td>  0.00</td>  \n",
       "</tr>\n",
       "<tr>\n",
       "  <th>Time:</th>                 <td>23:19:16</td>     <th>  Log-Likelihood:    </th> <td> -77384.</td> \n",
       "</tr>\n",
       "<tr>\n",
       "  <th>No. Observations:</th>      <td>  5355</td>      <th>  AIC:               </th> <td>1.548e+05</td>\n",
       "</tr>\n",
       "<tr>\n",
       "  <th>Df Residuals:</th>          <td>  5344</td>      <th>  BIC:               </th> <td>1.549e+05</td>\n",
       "</tr>\n",
       "<tr>\n",
       "  <th>Df Model:</th>              <td>    10</td>      <th>                     </th>     <td> </td>    \n",
       "</tr>\n",
       "<tr>\n",
       "  <th>Covariance Type:</th>      <td>nonrobust</td>    <th>                     </th>     <td> </td>    \n",
       "</tr>\n",
       "</table>\n",
       "<table class=\"simpletable\">\n",
       "<tr>\n",
       "    <td></td>       <th>coef</th>     <th>std err</th>      <th>t</th>      <th>P>|t|</th>  <th>[0.025</th>    <th>0.975]</th>  \n",
       "</tr>\n",
       "<tr>\n",
       "  <th>const</th> <td> 5.227e+06</td> <td> 4.46e+05</td> <td>   11.713</td> <td> 0.000</td> <td> 4.35e+06</td> <td>  6.1e+06</td>\n",
       "</tr>\n",
       "<tr>\n",
       "  <th>x1</th>    <td> 1.061e+05</td> <td> 2.56e+04</td> <td>    4.145</td> <td> 0.000</td> <td> 5.59e+04</td> <td> 1.56e+05</td>\n",
       "</tr>\n",
       "<tr>\n",
       "  <th>x2</th>    <td>  -2.8e+04</td> <td> 1192.961</td> <td>  -23.474</td> <td> 0.000</td> <td>-3.03e+04</td> <td>-2.57e+04</td>\n",
       "</tr>\n",
       "<tr>\n",
       "  <th>x3</th>    <td>  805.7384</td> <td>   66.218</td> <td>   12.168</td> <td> 0.000</td> <td>  675.923</td> <td>  935.553</td>\n",
       "</tr>\n",
       "<tr>\n",
       "  <th>x4</th>    <td> 4.111e+04</td> <td> 2.55e+04</td> <td>    1.613</td> <td> 0.107</td> <td>-8852.290</td> <td> 9.11e+04</td>\n",
       "</tr>\n",
       "<tr>\n",
       "  <th>x5</th>    <td> 1.548e+05</td> <td> 1.21e+04</td> <td>   12.747</td> <td> 0.000</td> <td> 1.31e+05</td> <td> 1.79e+05</td>\n",
       "</tr>\n",
       "<tr>\n",
       "  <th>x6</th>    <td> 2.932e+04</td> <td> 6931.144</td> <td>    4.230</td> <td> 0.000</td> <td> 1.57e+04</td> <td> 4.29e+04</td>\n",
       "</tr>\n",
       "<tr>\n",
       "  <th>x7</th>    <td>   17.5879</td> <td>    8.136</td> <td>    2.162</td> <td> 0.031</td> <td>    1.638</td> <td>   33.538</td>\n",
       "</tr>\n",
       "<tr>\n",
       "  <th>x8</th>    <td> 1348.6379</td> <td>  101.335</td> <td>   13.309</td> <td> 0.000</td> <td> 1149.979</td> <td> 1547.296</td>\n",
       "</tr>\n",
       "<tr>\n",
       "  <th>x9</th>    <td>-3735.9075</td> <td>  191.480</td> <td>  -19.511</td> <td> 0.000</td> <td>-4111.286</td> <td>-3360.529</td>\n",
       "</tr>\n",
       "<tr>\n",
       "  <th>x10</th>   <td>  3.22e+04</td> <td> 2.14e+04</td> <td>    1.501</td> <td> 0.133</td> <td>-9849.288</td> <td> 7.42e+04</td>\n",
       "</tr>\n",
       "</table>\n",
       "<table class=\"simpletable\">\n",
       "<tr>\n",
       "  <th>Omnibus:</th>       <td>3775.835</td> <th>  Durbin-Watson:     </th>  <td>   2.014</td> \n",
       "</tr>\n",
       "<tr>\n",
       "  <th>Prob(Omnibus):</th>  <td> 0.000</td>  <th>  Jarque-Bera (JB):  </th> <td>179807.771</td>\n",
       "</tr>\n",
       "<tr>\n",
       "  <th>Skew:</th>           <td> 2.821</td>  <th>  Prob(JB):          </th>  <td>    0.00</td> \n",
       "</tr>\n",
       "<tr>\n",
       "  <th>Kurtosis:</th>       <td>30.821</td>  <th>  Cond. No.          </th>  <td>2.66e+05</td> \n",
       "</tr>\n",
       "</table><br/><br/>Notes:<br/>[1] Standard Errors assume that the covariance matrix of the errors is correctly specified.<br/>[2] The condition number is large, 2.66e+05. This might indicate that there are<br/>strong multicollinearity or other numerical problems."
      ],
      "text/plain": [
       "<class 'statsmodels.iolib.summary.Summary'>\n",
       "\"\"\"\n",
       "                            OLS Regression Results                            \n",
       "==============================================================================\n",
       "Dep. Variable:                      y   R-squared:                       0.402\n",
       "Model:                            OLS   Adj. R-squared:                  0.401\n",
       "Method:                 Least Squares   F-statistic:                     359.9\n",
       "Date:                Mon, 05 Sep 2022   Prob (F-statistic):               0.00\n",
       "Time:                        23:19:16   Log-Likelihood:                -77384.\n",
       "No. Observations:                5355   AIC:                         1.548e+05\n",
       "Df Residuals:                    5344   BIC:                         1.549e+05\n",
       "Df Model:                          10                                         \n",
       "Covariance Type:            nonrobust                                         \n",
       "==============================================================================\n",
       "                 coef    std err          t      P>|t|      [0.025      0.975]\n",
       "------------------------------------------------------------------------------\n",
       "const       5.227e+06   4.46e+05     11.713      0.000    4.35e+06     6.1e+06\n",
       "x1          1.061e+05   2.56e+04      4.145      0.000    5.59e+04    1.56e+05\n",
       "x2           -2.8e+04   1192.961    -23.474      0.000   -3.03e+04   -2.57e+04\n",
       "x3           805.7384     66.218     12.168      0.000     675.923     935.553\n",
       "x4          4.111e+04   2.55e+04      1.613      0.107   -8852.290    9.11e+04\n",
       "x5          1.548e+05   1.21e+04     12.747      0.000    1.31e+05    1.79e+05\n",
       "x6          2.932e+04   6931.144      4.230      0.000    1.57e+04    4.29e+04\n",
       "x7            17.5879      8.136      2.162      0.031       1.638      33.538\n",
       "x8          1348.6379    101.335     13.309      0.000    1149.979    1547.296\n",
       "x9         -3735.9075    191.480    -19.511      0.000   -4111.286   -3360.529\n",
       "x10          3.22e+04   2.14e+04      1.501      0.133   -9849.288    7.42e+04\n",
       "==============================================================================\n",
       "Omnibus:                     3775.835   Durbin-Watson:                   2.014\n",
       "Prob(Omnibus):                  0.000   Jarque-Bera (JB):           179807.771\n",
       "Skew:                           2.821   Prob(JB):                         0.00\n",
       "Kurtosis:                      30.821   Cond. No.                     2.66e+05\n",
       "==============================================================================\n",
       "\n",
       "Notes:\n",
       "[1] Standard Errors assume that the covariance matrix of the errors is correctly specified.\n",
       "[2] The condition number is large, 2.66e+05. This might indicate that there are\n",
       "strong multicollinearity or other numerical problems.\n",
       "\"\"\""
      ]
     },
     "execution_count": 568,
     "metadata": {},
     "output_type": "execute_result"
    }
   ],
   "source": [
    "import statsmodels.api as sm\n",
    "X_with_constant = sm.add_constant(A_train)\n",
    "model = sm.OLS(B_train, X_with_constant)\n",
    "results = model.fit()\n",
    "results.params\n",
    "results.summary()"
   ]
  },
  {
   "cell_type": "code",
   "execution_count": 569,
   "id": "c6798051",
   "metadata": {},
   "outputs": [
    {
     "name": "stdout",
     "output_type": "stream",
     "text": [
      "[[ 1.06063700e+05 -2.80033820e+04  8.05738411e+02  4.11080439e+04\n",
      "   1.54830214e+05  2.93206911e+04  1.75879468e+01  1.34863792e+03\n",
      "  -3.73590751e+03  3.21989925e+04]]\n",
      "[5226574.24938691]\n"
     ]
    }
   ],
   "source": [
    "from sklearn import linear_model\n",
    "model = linear_model.LinearRegression()\n",
    "model.fit(A_train,B_train)\n",
    "print(model.coef_)\n",
    "print(model.intercept_)"
   ]
  },
  {
   "cell_type": "code",
   "execution_count": 570,
   "id": "faeabccc",
   "metadata": {},
   "outputs": [
    {
     "data": {
      "text/html": [
       "<div>\n",
       "<style scoped>\n",
       "    .dataframe tbody tr th:only-of-type {\n",
       "        vertical-align: middle;\n",
       "    }\n",
       "\n",
       "    .dataframe tbody tr th {\n",
       "        vertical-align: top;\n",
       "    }\n",
       "\n",
       "    .dataframe thead th {\n",
       "        text-align: right;\n",
       "    }\n",
       "</style>\n",
       "<table border=\"1\" class=\"dataframe\">\n",
       "  <thead>\n",
       "    <tr style=\"text-align: right;\">\n",
       "      <th></th>\n",
       "      <th>y_test</th>\n",
       "      <th>y_pred</th>\n",
       "    </tr>\n",
       "  </thead>\n",
       "  <tbody>\n",
       "    <tr>\n",
       "      <th>0</th>\n",
       "      <td>1.212500e+06</td>\n",
       "      <td>1.418672e+06</td>\n",
       "    </tr>\n",
       "    <tr>\n",
       "      <th>1</th>\n",
       "      <td>1.050173e+06</td>\n",
       "      <td>8.647917e+05</td>\n",
       "    </tr>\n",
       "    <tr>\n",
       "      <th>2</th>\n",
       "      <td>7.000000e+05</td>\n",
       "      <td>8.117959e+05</td>\n",
       "    </tr>\n",
       "    <tr>\n",
       "      <th>3</th>\n",
       "      <td>1.975000e+06</td>\n",
       "      <td>1.212586e+06</td>\n",
       "    </tr>\n",
       "    <tr>\n",
       "      <th>4</th>\n",
       "      <td>5.820000e+05</td>\n",
       "      <td>7.725663e+05</td>\n",
       "    </tr>\n",
       "    <tr>\n",
       "      <th>...</th>\n",
       "      <td>...</td>\n",
       "      <td>...</td>\n",
       "    </tr>\n",
       "    <tr>\n",
       "      <th>5350</th>\n",
       "      <td>1.245000e+06</td>\n",
       "      <td>1.028608e+06</td>\n",
       "    </tr>\n",
       "    <tr>\n",
       "      <th>5351</th>\n",
       "      <td>5.000000e+05</td>\n",
       "      <td>7.653086e+05</td>\n",
       "    </tr>\n",
       "    <tr>\n",
       "      <th>5352</th>\n",
       "      <td>1.050173e+06</td>\n",
       "      <td>1.342187e+06</td>\n",
       "    </tr>\n",
       "    <tr>\n",
       "      <th>5353</th>\n",
       "      <td>6.050000e+05</td>\n",
       "      <td>7.736767e+05</td>\n",
       "    </tr>\n",
       "    <tr>\n",
       "      <th>5354</th>\n",
       "      <td>5.500000e+06</td>\n",
       "      <td>2.263022e+06</td>\n",
       "    </tr>\n",
       "  </tbody>\n",
       "</table>\n",
       "<p>5355 rows × 2 columns</p>\n",
       "</div>"
      ],
      "text/plain": [
       "            y_test        y_pred\n",
       "0     1.212500e+06  1.418672e+06\n",
       "1     1.050173e+06  8.647917e+05\n",
       "2     7.000000e+05  8.117959e+05\n",
       "3     1.975000e+06  1.212586e+06\n",
       "4     5.820000e+05  7.725663e+05\n",
       "...            ...           ...\n",
       "5350  1.245000e+06  1.028608e+06\n",
       "5351  5.000000e+05  7.653086e+05\n",
       "5352  1.050173e+06  1.342187e+06\n",
       "5353  6.050000e+05  7.736767e+05\n",
       "5354  5.500000e+06  2.263022e+06\n",
       "\n",
       "[5355 rows x 2 columns]"
      ]
     },
     "execution_count": 570,
     "metadata": {},
     "output_type": "execute_result"
    }
   ],
   "source": [
    "y_pred = model.predict(A_train)\n",
    "df = pd.DataFrame(data = B_train ,columns =['y_test'])\n",
    "df['y_pred'] = y_pred\n",
    "df"
   ]
  },
  {
   "cell_type": "code",
   "execution_count": 571,
   "id": "52c2f2db",
   "metadata": {},
   "outputs": [
    {
     "name": "stdout",
     "output_type": "stream",
     "text": [
      "MSE: 208620042452.67\n",
      "R^2: 0.40\n"
     ]
    }
   ],
   "source": [
    "from sklearn.metrics import mean_squared_error,r2_score\n",
    "print('MSE: %.2f' % mean_squared_error(B_train, y_pred))\n",
    "print('R^2: %.2f' % r2_score(B_train, y_pred))"
   ]
  },
  {
   "cell_type": "code",
   "execution_count": 572,
   "id": "d1da93b3",
   "metadata": {},
   "outputs": [],
   "source": [
    "y_predict = model.predict(A_test)"
   ]
  },
  {
   "cell_type": "code",
   "execution_count": 573,
   "id": "acd4a3ec",
   "metadata": {},
   "outputs": [
    {
     "name": "stdout",
     "output_type": "stream",
     "text": [
      "MSE: 188022030287.91\n",
      "R^2: 0.37\n"
     ]
    }
   ],
   "source": [
    "from sklearn.metrics import mean_squared_error,r2_score\n",
    "print('MSE: %.2f' % mean_squared_error(B_test, y_predict))\n",
    "print('R^2: %.2f' % r2_score(B_test, y_predict))"
   ]
  },
  {
   "cell_type": "code",
   "execution_count": null,
   "id": "3d948acd",
   "metadata": {},
   "outputs": [],
   "source": []
  },
  {
   "cell_type": "code",
   "execution_count": null,
   "id": "950339ef",
   "metadata": {},
   "outputs": [],
   "source": []
  },
  {
   "cell_type": "code",
   "execution_count": 574,
   "id": "239a883b",
   "metadata": {},
   "outputs": [
    {
     "data": {
      "text/plain": [
       "Lasso(alpha=50, max_iter=100, tol=0.1)"
      ]
     },
     "execution_count": 574,
     "metadata": {},
     "output_type": "execute_result"
    }
   ],
   "source": [
    "# Using Lasso (L1 Regularized) Regression Model\n",
    "from sklearn import linear_model\n",
    "lasso_reg = linear_model.Lasso(alpha=50, max_iter=100, tol=0.1)\n",
    "lasso_reg.fit(A_train, B_train)"
   ]
  },
  {
   "cell_type": "code",
   "execution_count": 575,
   "id": "ccc13d65",
   "metadata": {},
   "outputs": [
    {
     "data": {
      "text/plain": [
       "0.3746250785994406"
      ]
     },
     "execution_count": 575,
     "metadata": {},
     "output_type": "execute_result"
    }
   ],
   "source": [
    "lasso_reg.score(A_test, B_test)"
   ]
  },
  {
   "cell_type": "code",
   "execution_count": 576,
   "id": "2072dab2",
   "metadata": {},
   "outputs": [
    {
     "data": {
      "text/plain": [
       "0.40244115111977763"
      ]
     },
     "execution_count": 576,
     "metadata": {},
     "output_type": "execute_result"
    }
   ],
   "source": [
    "lasso_reg.score(A_train, B_train)"
   ]
  },
  {
   "cell_type": "code",
   "execution_count": 577,
   "id": "95323230",
   "metadata": {},
   "outputs": [
    {
     "name": "stdout",
     "output_type": "stream",
     "text": [
      "0.37440707111185967\n",
      "0.4024120765657394\n"
     ]
    }
   ],
   "source": [
    "# Using Ridge (L2 Regularized) Regression Model\n",
    "from sklearn.linear_model import Ridge\n",
    "ridge_reg= Ridge(alpha=50, max_iter=100, tol=0.1)\n",
    "ridge_reg.fit(A_train, B_train)\n",
    "print(ridge_reg.score(A_test, B_test))\n",
    "\n",
    "print(ridge_reg.score(A_train, B_train))"
   ]
  },
  {
   "cell_type": "code",
   "execution_count": null,
   "id": "96c98bb0",
   "metadata": {},
   "outputs": [],
   "source": []
  },
  {
   "cell_type": "code",
   "execution_count": null,
   "id": "9c539df7",
   "metadata": {},
   "outputs": [],
   "source": []
  },
  {
   "cell_type": "code",
   "execution_count": null,
   "id": "ba9e5d34",
   "metadata": {},
   "outputs": [],
   "source": []
  },
  {
   "cell_type": "code",
   "execution_count": null,
   "id": "68da8a0b",
   "metadata": {},
   "outputs": [],
   "source": []
  },
  {
   "cell_type": "code",
   "execution_count": null,
   "id": "847698b6",
   "metadata": {},
   "outputs": [],
   "source": []
  },
  {
   "cell_type": "code",
   "execution_count": null,
   "id": "f4e4a992",
   "metadata": {},
   "outputs": [],
   "source": []
  },
  {
   "cell_type": "code",
   "execution_count": null,
   "id": "3e9b4a63",
   "metadata": {},
   "outputs": [],
   "source": []
  },
  {
   "cell_type": "code",
   "execution_count": null,
   "id": "dc103dfc",
   "metadata": {},
   "outputs": [],
   "source": []
  },
  {
   "cell_type": "code",
   "execution_count": null,
   "id": "ec0a6174",
   "metadata": {},
   "outputs": [],
   "source": []
  },
  {
   "cell_type": "code",
   "execution_count": null,
   "id": "a53a4a17",
   "metadata": {},
   "outputs": [],
   "source": []
  },
  {
   "cell_type": "code",
   "execution_count": null,
   "id": "01b23d18",
   "metadata": {},
   "outputs": [],
   "source": []
  },
  {
   "cell_type": "code",
   "execution_count": null,
   "id": "164fc9ad",
   "metadata": {},
   "outputs": [],
   "source": []
  },
  {
   "cell_type": "code",
   "execution_count": null,
   "id": "1dd5a5f7",
   "metadata": {},
   "outputs": [],
   "source": []
  },
  {
   "cell_type": "code",
   "execution_count": null,
   "id": "4817be55",
   "metadata": {},
   "outputs": [],
   "source": []
  },
  {
   "cell_type": "code",
   "execution_count": null,
   "id": "5d4b9b5b",
   "metadata": {},
   "outputs": [],
   "source": []
  },
  {
   "cell_type": "code",
   "execution_count": null,
   "id": "81793959",
   "metadata": {},
   "outputs": [],
   "source": []
  },
  {
   "cell_type": "code",
   "execution_count": null,
   "id": "87ba558d",
   "metadata": {},
   "outputs": [],
   "source": []
  },
  {
   "cell_type": "code",
   "execution_count": null,
   "id": "759cbe32",
   "metadata": {},
   "outputs": [],
   "source": []
  },
  {
   "cell_type": "code",
   "execution_count": null,
   "id": "06e874a8",
   "metadata": {},
   "outputs": [],
   "source": []
  },
  {
   "cell_type": "code",
   "execution_count": null,
   "id": "1371c2d5",
   "metadata": {},
   "outputs": [],
   "source": []
  }
 ],
 "metadata": {
  "kernelspec": {
   "display_name": "Python 3 (ipykernel)",
   "language": "python",
   "name": "python3"
  },
  "language_info": {
   "codemirror_mode": {
    "name": "ipython",
    "version": 3
   },
   "file_extension": ".py",
   "mimetype": "text/x-python",
   "name": "python",
   "nbconvert_exporter": "python",
   "pygments_lexer": "ipython3",
   "version": "3.9.12"
  }
 },
 "nbformat": 4,
 "nbformat_minor": 5
}
